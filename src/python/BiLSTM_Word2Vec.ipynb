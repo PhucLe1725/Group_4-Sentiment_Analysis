{
 "cells": [
  {
   "cell_type": "markdown",
   "metadata": {},
   "source": [
    "# BiLSTM with Word2Vec embeddings"
   ]
  },
  {
   "cell_type": "markdown",
   "metadata": {},
   "source": [
    "## Word2Vec  BiLSTM"
   ]
  },
  {
   "cell_type": "code",
   "execution_count": 1,
   "metadata": {
    "execution": {
     "iopub.execute_input": "2024-12-19T00:32:40.220260Z",
     "iopub.status.busy": "2024-12-19T00:32:40.219921Z",
     "iopub.status.idle": "2024-12-19T00:33:00.705102Z",
     "shell.execute_reply": "2024-12-19T00:33:00.704393Z",
     "shell.execute_reply.started": "2024-12-19T00:32:40.220217Z"
    },
    "trusted": true
   },
   "outputs": [],
   "source": [
    "import numpy as np\n",
    "\n",
    "from gensim.models import Word2Vec\n",
    "\n",
    "from tensorflow.keras.preprocessing.text import one_hot, Tokenizer\n",
    "from tensorflow.keras.models import Sequential\n",
    "from tensorflow.keras.layers import Activation, Dropout, Dense, Flatten, GlobalMaxPooling1D, Embedding, BatchNormalization\n",
    "from tensorflow.keras.layers import Flatten, GlobalMaxPooling1D, Embedding\n",
    "from sklearn.model_selection import train_test_split\n",
    "\n",
    "from keras.preprocessing.sequence import pad_sequences\n",
    "import pickle"
   ]
  },
  {
   "cell_type": "markdown",
   "metadata": {},
   "source": [
    "Do kích thước lớn của data cho word embeddings và để dễ dàng cập nhật trên github, chúng tôi không thêm data vào phần `resources`. Data cho word embeddings có thể lấy tại [đây](https://drive.google.com/drive/folders/1lHf_Q_nuiUHhJWc5efgl_HgfqmWnQvjh?usp=sharing) \\\n",
    "Để dễ dàng huấn luyện, chúng tôi thực hiện chạy mô hình trên nền tảng Kaggle \\\n",
    "Các file phía dưới sẽ cần tủy chỉnh lại đường dẫn tùy theo vị trí lưu file \n",
    "\n",
    "Chúng tôi cam đoan các file trên đều hoàn toàn được sinh ra từ tệp dataset gốc của bài toán. Cụ thể: từ file `Word2Vec.ipynb` trong source code này"
   ]
  },
  {
   "cell_type": "code",
   "execution_count": 2,
   "metadata": {
    "execution": {
     "iopub.execute_input": "2024-12-19T00:33:00.706503Z",
     "iopub.status.busy": "2024-12-19T00:33:00.706033Z",
     "iopub.status.idle": "2024-12-19T00:33:01.627674Z",
     "shell.execute_reply": "2024-12-19T00:33:01.626667Z",
     "shell.execute_reply.started": "2024-12-19T00:33:00.706477Z"
    },
    "trusted": true
   },
   "outputs": [],
   "source": [
    "model = Word2Vec.load(\"/kaggle/input/word2vec-imdb-dataset/word_embeddings.model\")"
   ]
  },
  {
   "cell_type": "code",
   "execution_count": 3,
   "metadata": {
    "execution": {
     "iopub.execute_input": "2024-12-19T00:33:01.630047Z",
     "iopub.status.busy": "2024-12-19T00:33:01.629728Z",
     "iopub.status.idle": "2024-12-19T00:33:03.376946Z",
     "shell.execute_reply": "2024-12-19T00:33:03.376158Z",
     "shell.execute_reply.started": "2024-12-19T00:33:01.630020Z"
    },
    "trusted": true
   },
   "outputs": [],
   "source": [
    "with open(\"/kaggle/input/word2vec-imdb-dataset/sentences.pkl\", \"rb\") as f:\n",
    "    sentences = pickle.load(f)\n",
    "with open(\"/kaggle/input/word2vec-imdb-dataset/test_sentences.pkl\", \"rb\") as f:\n",
    "    test_sentences = pickle.load(f)"
   ]
  },
  {
   "cell_type": "code",
   "execution_count": 6,
   "metadata": {
    "execution": {
     "iopub.execute_input": "2024-12-19T00:34:07.836036Z",
     "iopub.status.busy": "2024-12-19T00:34:07.835355Z",
     "iopub.status.idle": "2024-12-19T00:34:07.904294Z",
     "shell.execute_reply": "2024-12-19T00:34:07.903604Z",
     "shell.execute_reply.started": "2024-12-19T00:34:07.836001Z"
    },
    "trusted": true
   },
   "outputs": [],
   "source": [
    "with open(\"/kaggle/input/word2vec-imdb/y_train.pkl\", \"rb\") as f:\n",
    "    y_train = pickle.load(f)\n",
    "with open(\"/kaggle/input/word2vec-imdb/y_test.pkl\", \"rb\") as f:\n",
    "    y_test = pickle.load(f)"
   ]
  },
  {
   "cell_type": "code",
   "execution_count": 7,
   "metadata": {
    "execution": {
     "iopub.execute_input": "2024-12-19T00:34:09.704472Z",
     "iopub.status.busy": "2024-12-19T00:34:09.704137Z",
     "iopub.status.idle": "2024-12-19T00:34:11.634169Z",
     "shell.execute_reply": "2024-12-19T00:34:11.633450Z",
     "shell.execute_reply.started": "2024-12-19T00:34:09.704440Z"
    },
    "trusted": true
   },
   "outputs": [],
   "source": [
    "for sent in sentences:\n",
    "    for word in sent:\n",
    "        if word not in model.wv:\n",
    "            sent.remove(word)"
   ]
  },
  {
   "cell_type": "code",
   "execution_count": 8,
   "metadata": {
    "execution": {
     "iopub.execute_input": "2024-12-19T00:34:13.368916Z",
     "iopub.status.busy": "2024-12-19T00:34:13.368562Z",
     "iopub.status.idle": "2024-12-19T00:34:13.379929Z",
     "shell.execute_reply": "2024-12-19T00:34:13.379196Z",
     "shell.execute_reply.started": "2024-12-19T00:34:13.368884Z"
    },
    "trusted": true
   },
   "outputs": [],
   "source": [
    "y_train = np.where(y_train == 'negative', 0, 1)\n",
    "y_test = np.where(y_test == 'negative', 0, 1)"
   ]
  },
  {
   "cell_type": "markdown",
   "metadata": {},
   "source": [
    "### Loại bỏ các câu văn dài hơn 250 từ"
   ]
  },
  {
   "cell_type": "code",
   "execution_count": 9,
   "metadata": {
    "execution": {
     "iopub.execute_input": "2024-12-19T00:34:21.606456Z",
     "iopub.status.busy": "2024-12-19T00:34:21.606124Z",
     "iopub.status.idle": "2024-12-19T00:34:21.634509Z",
     "shell.execute_reply": "2024-12-19T00:34:21.633504Z",
     "shell.execute_reply.started": "2024-12-19T00:34:21.606428Z"
    },
    "trusted": true
   },
   "outputs": [
    {
     "name": "stdout",
     "output_type": "stream",
     "text": [
      "1377\n",
      "22493\n",
      "-1\n",
      "3050\n",
      "1400\n"
     ]
    }
   ],
   "source": [
    "max_length = 0\n",
    "idx = - 1\n",
    "test_idx = -1\n",
    "gle_250 = []\n",
    "gle_250_test = []\n",
    "for i in range(len(sentences)):\n",
    "    if(len(sentences[i]) > 250):\n",
    "        gle_250.append(i)\n",
    "    if (len(sentences[i]) > max_length):\n",
    "        idx= i\n",
    "        max_length = len(sentences[i])\n",
    "for j in range(len(test_sentences)):\n",
    "    if(len(test_sentences[j]) > 250):\n",
    "        gle_250_test.append(j)\n",
    "    if (len(test_sentences[j]) > max_length):\n",
    "        test_idx = j\n",
    "        max_length = len(sentences[j])\n",
    "print(max_length)\n",
    "print(idx)\n",
    "print(test_idx)\n",
    "print(len(gle_250))\n",
    "print(len(gle_250_test))"
   ]
  },
  {
   "cell_type": "code",
   "execution_count": 10,
   "metadata": {
    "execution": {
     "iopub.execute_input": "2024-12-19T00:34:24.960670Z",
     "iopub.status.busy": "2024-12-19T00:34:24.960032Z",
     "iopub.status.idle": "2024-12-19T00:34:25.001676Z",
     "shell.execute_reply": "2024-12-19T00:34:25.000778Z",
     "shell.execute_reply.started": "2024-12-19T00:34:24.960638Z"
    },
    "trusted": true
   },
   "outputs": [
    {
     "name": "stdout",
     "output_type": "stream",
     "text": [
      "\n",
      "35000\n",
      "15000\n"
     ]
    }
   ],
   "source": [
    "for i in range(len(gle_250)):\n",
    "    idx = gle_250[len(gle_250) - 1 - i]\n",
    "    sentences.pop(idx)\n",
    "print()\n",
    "for i in range(len(gle_250_test)):\n",
    "    idx = gle_250_test[len(gle_250_test) - 1 -  i]\n",
    "    test_sentences.pop(idx)\n",
    "print(len(sentences) + len(gle_250))\n",
    "print(len(test_sentences) + len(gle_250_test))"
   ]
  },
  {
   "cell_type": "code",
   "execution_count": 11,
   "metadata": {
    "execution": {
     "iopub.execute_input": "2024-12-19T00:34:33.424468Z",
     "iopub.status.busy": "2024-12-19T00:34:33.423646Z",
     "iopub.status.idle": "2024-12-19T00:34:33.429264Z",
     "shell.execute_reply": "2024-12-19T00:34:33.428257Z",
     "shell.execute_reply.started": "2024-12-19T00:34:33.424436Z"
    },
    "trusted": true
   },
   "outputs": [],
   "source": [
    "y_train = np.delete(y_train, gle_250)\n",
    "y_test = np.delete(y_test, gle_250_test)"
   ]
  },
  {
   "cell_type": "code",
   "execution_count": 12,
   "metadata": {
    "execution": {
     "iopub.execute_input": "2024-12-19T00:34:38.187025Z",
     "iopub.status.busy": "2024-12-19T00:34:38.186235Z",
     "iopub.status.idle": "2024-12-19T00:34:38.212279Z",
     "shell.execute_reply": "2024-12-19T00:34:38.211554Z",
     "shell.execute_reply.started": "2024-12-19T00:34:38.186994Z"
    },
    "trusted": true
   },
   "outputs": [
    {
     "name": "stdout",
     "output_type": "stream",
     "text": [
      "250\n",
      "62\n",
      "-1\n",
      "0\n",
      "0\n"
     ]
    }
   ],
   "source": [
    "max_length = 0\n",
    "idx = - 1\n",
    "test_idx = -1\n",
    "gle_250_new = []\n",
    "gle_250_test_new = []\n",
    "for i in range(len(sentences)):\n",
    "    if(len(sentences[i]) > 250):\n",
    "        gle_250_new.append(i)\n",
    "    if (len(sentences[i]) > max_length):\n",
    "        idx= i\n",
    "        max_length = len(sentences[i])\n",
    "for j in range(len(test_sentences)):\n",
    "    if(len(test_sentences[j]) > 250):\n",
    "        gle_250_test_new.append(j)\n",
    "    if (len(test_sentences[j]) > max_length):\n",
    "        test_idx = j\n",
    "        max_length = len(sentences[j])\n",
    "print(max_length)\n",
    "print(idx)\n",
    "print(test_idx)\n",
    "print(len(gle_250_new))\n",
    "print(len(gle_250_test_new))"
   ]
  },
  {
   "cell_type": "markdown",
   "metadata": {},
   "source": [
    "### Tokenization và xây dựng embedding_matrix"
   ]
  },
  {
   "cell_type": "code",
   "execution_count": 13,
   "metadata": {
    "execution": {
     "iopub.execute_input": "2024-12-19T00:34:46.855494Z",
     "iopub.status.busy": "2024-12-19T00:34:46.854673Z",
     "iopub.status.idle": "2024-12-19T00:34:49.895004Z",
     "shell.execute_reply": "2024-12-19T00:34:49.894110Z",
     "shell.execute_reply.started": "2024-12-19T00:34:46.855462Z"
    },
    "trusted": true
   },
   "outputs": [
    {
     "name": "stdout",
     "output_type": "stream",
     "text": [
      "encode sucessfully\n"
     ]
    }
   ],
   "source": [
    "word_tokenizer = Tokenizer()\n",
    "word_tokenizer.fit_on_texts(sentences)\n",
    "\n",
    "X_train = word_tokenizer.texts_to_sequences(sentences)\n",
    "X_test = word_tokenizer.texts_to_sequences(test_sentences)\n",
    "print(\"encode sucessfully\")"
   ]
  },
  {
   "cell_type": "code",
   "execution_count": 14,
   "metadata": {
    "execution": {
     "iopub.execute_input": "2024-12-19T00:36:08.898026Z",
     "iopub.status.busy": "2024-12-19T00:36:08.897636Z",
     "iopub.status.idle": "2024-12-19T00:36:08.930128Z",
     "shell.execute_reply": "2024-12-19T00:36:08.929482Z",
     "shell.execute_reply.started": "2024-12-19T00:36:08.897995Z"
    },
    "trusted": true
   },
   "outputs": [],
   "source": [
    "# import pickle\n",
    "# with open(\"/kaggle/working/tokenizer.pkl\", \"wb\") as f:\n",
    "#     pickle.dump(word_tokenizer, f)"
   ]
  },
  {
   "cell_type": "code",
   "execution_count": 15,
   "metadata": {
    "execution": {
     "iopub.execute_input": "2024-12-19T00:36:20.147775Z",
     "iopub.status.busy": "2024-12-19T00:36:20.147081Z",
     "iopub.status.idle": "2024-12-19T00:36:20.153672Z",
     "shell.execute_reply": "2024-12-19T00:36:20.152678Z",
     "shell.execute_reply.started": "2024-12-19T00:36:20.147730Z"
    },
    "trusted": true
   },
   "outputs": [
    {
     "data": {
      "text/plain": [
       "33859"
      ]
     },
     "execution_count": 15,
     "metadata": {},
     "output_type": "execute_result"
    }
   ],
   "source": [
    "vocab_length = len(word_tokenizer.word_index) + 1\n",
    "vocab_length"
   ]
  },
  {
   "cell_type": "code",
   "execution_count": 16,
   "metadata": {
    "execution": {
     "iopub.execute_input": "2024-12-19T00:37:06.562378Z",
     "iopub.status.busy": "2024-12-19T00:37:06.561786Z",
     "iopub.status.idle": "2024-12-19T00:37:06.878717Z",
     "shell.execute_reply": "2024-12-19T00:37:06.877817Z",
     "shell.execute_reply.started": "2024-12-19T00:37:06.562343Z"
    },
    "trusted": true
   },
   "outputs": [],
   "source": [
    "X_train = pad_sequences(X_train, padding='post', maxlen=max_length)\n",
    "X_test = pad_sequences(X_test, padding='post', maxlen=max_length)"
   ]
  },
  {
   "cell_type": "code",
   "execution_count": 17,
   "metadata": {
    "execution": {
     "iopub.execute_input": "2024-12-19T00:49:18.814935Z",
     "iopub.status.busy": "2024-12-19T00:49:18.814186Z",
     "iopub.status.idle": "2024-12-19T00:49:18.958280Z",
     "shell.execute_reply": "2024-12-19T00:49:18.957439Z",
     "shell.execute_reply.started": "2024-12-19T00:49:18.814898Z"
    },
    "trusted": true
   },
   "outputs": [
    {
     "data": {
      "text/plain": [
       "(33859, 200)"
      ]
     },
     "execution_count": 17,
     "metadata": {},
     "output_type": "execute_result"
    }
   ],
   "source": [
    "embedding_matrix = np.zeros((vocab_length, 200))\n",
    "for word, index in word_tokenizer.word_index.items():\n",
    "    if word in model.wv:\n",
    "        embedding_vector = model.wv[word]\n",
    "    else:\n",
    "        embedding_vector = np.zeros(200)\n",
    "    embedding_matrix[index] = embedding_vector     \n",
    "embedding_matrix.shape"
   ]
  },
  {
   "cell_type": "markdown",
   "metadata": {},
   "source": [
    "### Model "
   ]
  },
  {
   "cell_type": "code",
   "execution_count": 18,
   "metadata": {
    "execution": {
     "iopub.execute_input": "2024-12-19T00:49:24.405424Z",
     "iopub.status.busy": "2024-12-19T00:49:24.404621Z",
     "iopub.status.idle": "2024-12-19T00:49:25.552038Z",
     "shell.execute_reply": "2024-12-19T00:49:25.551213Z",
     "shell.execute_reply.started": "2024-12-19T00:49:24.405392Z"
    },
    "trusted": true
   },
   "outputs": [
    {
     "data": {
      "text/html": [
       "<pre style=\"white-space:pre;overflow-x:auto;line-height:normal;font-family:Menlo,'DejaVu Sans Mono',consolas,'Courier New',monospace\"><span style=\"font-weight: bold\">Model: \"sequential\"</span>\n",
       "</pre>\n"
      ],
      "text/plain": [
       "\u001b[1mModel: \"sequential\"\u001b[0m\n"
      ]
     },
     "metadata": {},
     "output_type": "display_data"
    },
    {
     "data": {
      "text/html": [
       "<pre style=\"white-space:pre;overflow-x:auto;line-height:normal;font-family:Menlo,'DejaVu Sans Mono',consolas,'Courier New',monospace\">┏━━━━━━━━━━━━━━━━━━━━━━━━━━━━━━━━━┳━━━━━━━━━━━━━━━━━━━━━━━━┳━━━━━━━━━━━━━━━┓\n",
       "┃<span style=\"font-weight: bold\"> Layer (type)                    </span>┃<span style=\"font-weight: bold\"> Output Shape           </span>┃<span style=\"font-weight: bold\">       Param # </span>┃\n",
       "┡━━━━━━━━━━━━━━━━━━━━━━━━━━━━━━━━━╇━━━━━━━━━━━━━━━━━━━━━━━━╇━━━━━━━━━━━━━━━┩\n",
       "│ embedding (<span style=\"color: #0087ff; text-decoration-color: #0087ff\">Embedding</span>)           │ ?                      │     <span style=\"color: #00af00; text-decoration-color: #00af00\">6,771,800</span> │\n",
       "├─────────────────────────────────┼────────────────────────┼───────────────┤\n",
       "│ bidirectional (<span style=\"color: #0087ff; text-decoration-color: #0087ff\">Bidirectional</span>)   │ ?                      │   <span style=\"color: #00af00; text-decoration-color: #00af00\">0</span> (unbuilt) │\n",
       "├─────────────────────────────────┼────────────────────────┼───────────────┤\n",
       "│ layer_normalization             │ ?                      │   <span style=\"color: #00af00; text-decoration-color: #00af00\">0</span> (unbuilt) │\n",
       "│ (<span style=\"color: #0087ff; text-decoration-color: #0087ff\">LayerNormalization</span>)            │                        │               │\n",
       "├─────────────────────────────────┼────────────────────────┼───────────────┤\n",
       "│ bidirectional_1 (<span style=\"color: #0087ff; text-decoration-color: #0087ff\">Bidirectional</span>) │ ?                      │   <span style=\"color: #00af00; text-decoration-color: #00af00\">0</span> (unbuilt) │\n",
       "├─────────────────────────────────┼────────────────────────┼───────────────┤\n",
       "│ layer_normalization_1           │ ?                      │   <span style=\"color: #00af00; text-decoration-color: #00af00\">0</span> (unbuilt) │\n",
       "│ (<span style=\"color: #0087ff; text-decoration-color: #0087ff\">LayerNormalization</span>)            │                        │               │\n",
       "├─────────────────────────────────┼────────────────────────┼───────────────┤\n",
       "│ conv1d (<span style=\"color: #0087ff; text-decoration-color: #0087ff\">Conv1D</span>)                 │ ?                      │   <span style=\"color: #00af00; text-decoration-color: #00af00\">0</span> (unbuilt) │\n",
       "├─────────────────────────────────┼────────────────────────┼───────────────┤\n",
       "│ layer_normalization_2           │ ?                      │   <span style=\"color: #00af00; text-decoration-color: #00af00\">0</span> (unbuilt) │\n",
       "│ (<span style=\"color: #0087ff; text-decoration-color: #0087ff\">LayerNormalization</span>)            │                        │               │\n",
       "├─────────────────────────────────┼────────────────────────┼───────────────┤\n",
       "│ global_max_pooling1d            │ ?                      │   <span style=\"color: #00af00; text-decoration-color: #00af00\">0</span> (unbuilt) │\n",
       "│ (<span style=\"color: #0087ff; text-decoration-color: #0087ff\">GlobalMaxPooling1D</span>)            │                        │               │\n",
       "├─────────────────────────────────┼────────────────────────┼───────────────┤\n",
       "│ dense (<span style=\"color: #0087ff; text-decoration-color: #0087ff\">Dense</span>)                   │ ?                      │   <span style=\"color: #00af00; text-decoration-color: #00af00\">0</span> (unbuilt) │\n",
       "├─────────────────────────────────┼────────────────────────┼───────────────┤\n",
       "│ dropout (<span style=\"color: #0087ff; text-decoration-color: #0087ff\">Dropout</span>)               │ ?                      │   <span style=\"color: #00af00; text-decoration-color: #00af00\">0</span> (unbuilt) │\n",
       "├─────────────────────────────────┼────────────────────────┼───────────────┤\n",
       "│ dense_1 (<span style=\"color: #0087ff; text-decoration-color: #0087ff\">Dense</span>)                 │ ?                      │   <span style=\"color: #00af00; text-decoration-color: #00af00\">0</span> (unbuilt) │\n",
       "└─────────────────────────────────┴────────────────────────┴───────────────┘\n",
       "</pre>\n"
      ],
      "text/plain": [
       "┏━━━━━━━━━━━━━━━━━━━━━━━━━━━━━━━━━┳━━━━━━━━━━━━━━━━━━━━━━━━┳━━━━━━━━━━━━━━━┓\n",
       "┃\u001b[1m \u001b[0m\u001b[1mLayer (type)                   \u001b[0m\u001b[1m \u001b[0m┃\u001b[1m \u001b[0m\u001b[1mOutput Shape          \u001b[0m\u001b[1m \u001b[0m┃\u001b[1m \u001b[0m\u001b[1m      Param #\u001b[0m\u001b[1m \u001b[0m┃\n",
       "┡━━━━━━━━━━━━━━━━━━━━━━━━━━━━━━━━━╇━━━━━━━━━━━━━━━━━━━━━━━━╇━━━━━━━━━━━━━━━┩\n",
       "│ embedding (\u001b[38;5;33mEmbedding\u001b[0m)           │ ?                      │     \u001b[38;5;34m6,771,800\u001b[0m │\n",
       "├─────────────────────────────────┼────────────────────────┼───────────────┤\n",
       "│ bidirectional (\u001b[38;5;33mBidirectional\u001b[0m)   │ ?                      │   \u001b[38;5;34m0\u001b[0m (unbuilt) │\n",
       "├─────────────────────────────────┼────────────────────────┼───────────────┤\n",
       "│ layer_normalization             │ ?                      │   \u001b[38;5;34m0\u001b[0m (unbuilt) │\n",
       "│ (\u001b[38;5;33mLayerNormalization\u001b[0m)            │                        │               │\n",
       "├─────────────────────────────────┼────────────────────────┼───────────────┤\n",
       "│ bidirectional_1 (\u001b[38;5;33mBidirectional\u001b[0m) │ ?                      │   \u001b[38;5;34m0\u001b[0m (unbuilt) │\n",
       "├─────────────────────────────────┼────────────────────────┼───────────────┤\n",
       "│ layer_normalization_1           │ ?                      │   \u001b[38;5;34m0\u001b[0m (unbuilt) │\n",
       "│ (\u001b[38;5;33mLayerNormalization\u001b[0m)            │                        │               │\n",
       "├─────────────────────────────────┼────────────────────────┼───────────────┤\n",
       "│ conv1d (\u001b[38;5;33mConv1D\u001b[0m)                 │ ?                      │   \u001b[38;5;34m0\u001b[0m (unbuilt) │\n",
       "├─────────────────────────────────┼────────────────────────┼───────────────┤\n",
       "│ layer_normalization_2           │ ?                      │   \u001b[38;5;34m0\u001b[0m (unbuilt) │\n",
       "│ (\u001b[38;5;33mLayerNormalization\u001b[0m)            │                        │               │\n",
       "├─────────────────────────────────┼────────────────────────┼───────────────┤\n",
       "│ global_max_pooling1d            │ ?                      │   \u001b[38;5;34m0\u001b[0m (unbuilt) │\n",
       "│ (\u001b[38;5;33mGlobalMaxPooling1D\u001b[0m)            │                        │               │\n",
       "├─────────────────────────────────┼────────────────────────┼───────────────┤\n",
       "│ dense (\u001b[38;5;33mDense\u001b[0m)                   │ ?                      │   \u001b[38;5;34m0\u001b[0m (unbuilt) │\n",
       "├─────────────────────────────────┼────────────────────────┼───────────────┤\n",
       "│ dropout (\u001b[38;5;33mDropout\u001b[0m)               │ ?                      │   \u001b[38;5;34m0\u001b[0m (unbuilt) │\n",
       "├─────────────────────────────────┼────────────────────────┼───────────────┤\n",
       "│ dense_1 (\u001b[38;5;33mDense\u001b[0m)                 │ ?                      │   \u001b[38;5;34m0\u001b[0m (unbuilt) │\n",
       "└─────────────────────────────────┴────────────────────────┴───────────────┘\n"
      ]
     },
     "metadata": {},
     "output_type": "display_data"
    },
    {
     "data": {
      "text/html": [
       "<pre style=\"white-space:pre;overflow-x:auto;line-height:normal;font-family:Menlo,'DejaVu Sans Mono',consolas,'Courier New',monospace\"><span style=\"font-weight: bold\"> Total params: </span><span style=\"color: #00af00; text-decoration-color: #00af00\">6,771,800</span> (25.83 MB)\n",
       "</pre>\n"
      ],
      "text/plain": [
       "\u001b[1m Total params: \u001b[0m\u001b[38;5;34m6,771,800\u001b[0m (25.83 MB)\n"
      ]
     },
     "metadata": {},
     "output_type": "display_data"
    },
    {
     "data": {
      "text/html": [
       "<pre style=\"white-space:pre;overflow-x:auto;line-height:normal;font-family:Menlo,'DejaVu Sans Mono',consolas,'Courier New',monospace\"><span style=\"font-weight: bold\"> Trainable params: </span><span style=\"color: #00af00; text-decoration-color: #00af00\">6,771,800</span> (25.83 MB)\n",
       "</pre>\n"
      ],
      "text/plain": [
       "\u001b[1m Trainable params: \u001b[0m\u001b[38;5;34m6,771,800\u001b[0m (25.83 MB)\n"
      ]
     },
     "metadata": {},
     "output_type": "display_data"
    },
    {
     "data": {
      "text/html": [
       "<pre style=\"white-space:pre;overflow-x:auto;line-height:normal;font-family:Menlo,'DejaVu Sans Mono',consolas,'Courier New',monospace\"><span style=\"font-weight: bold\"> Non-trainable params: </span><span style=\"color: #00af00; text-decoration-color: #00af00\">0</span> (0.00 B)\n",
       "</pre>\n"
      ],
      "text/plain": [
       "\u001b[1m Non-trainable params: \u001b[0m\u001b[38;5;34m0\u001b[0m (0.00 B)\n"
      ]
     },
     "metadata": {},
     "output_type": "display_data"
    }
   ],
   "source": [
    "from tensorflow.keras.models import Sequential\n",
    "from tensorflow.keras.layers import Embedding, Bidirectional, LSTM, Dense, Dropout\n",
    "from tensorflow.keras.layers import GlobalMaxPooling1D, Conv1D, LayerNormalization\n",
    "from tensorflow.keras.regularizers import l2\n",
    "\n",
    "# Redesigned BiLSTM Model with L2 Regularization\n",
    "BiLSTM = Sequential([\n",
    "    Embedding(vocab_length, 200, weights=[embedding_matrix], trainable=True),\n",
    "    \n",
    "    # First BiLSTM Layer with L2 regularization\n",
    "    Bidirectional(LSTM(128, return_sequences=True, dropout=0.3, recurrent_dropout=0.3, \n",
    "                       kernel_regularizer=l2(0.0001))),\n",
    "    LayerNormalization(),  # Layer normalization after LSTM layer\n",
    "    \n",
    "    # Second BiLSTM Layer with L2 regularization\n",
    "    Bidirectional(LSTM(128, return_sequences=True, dropout=0.3, recurrent_dropout=0.3,\n",
    "                       kernel_regularizer=l2(0.0001))),\n",
    "    LayerNormalization(),  # Layer normalization after LSTM layer\n",
    "    \n",
    "    # Conv1D Layer with L2 regularization\n",
    "    Conv1D(100, 5, activation='relu', kernel_regularizer=l2(0.0001)),\n",
    "    LayerNormalization(),  # Layer normalization after Conv1D layer\n",
    "    \n",
    "    # GlobalMaxPooling1D Layer\n",
    "    GlobalMaxPooling1D(),\n",
    "    \n",
    "    # Dense Layers with L2 regularization\n",
    "    Dense(64, activation='relu', kernel_regularizer=l2(0.0001)),  # Fully connected layer\n",
    "    Dropout(0.3),  # Dropout for regularization\n",
    "    Dense(1, activation='sigmoid', kernel_regularizer=l2(0.0001)) # Output layer for binary classification\n",
    "])\n",
    "\n",
    "# Compile the Model\n",
    "BiLSTM.compile(optimizer='adam', loss='binary_crossentropy', metrics=['accuracy'])\n",
    "BiLSTM.summary()"
   ]
  },
  {
   "cell_type": "code",
   "execution_count": 53,
   "metadata": {
    "execution": {
     "iopub.execute_input": "2024-12-18T21:41:12.889794Z",
     "iopub.status.busy": "2024-12-18T21:41:12.889505Z",
     "iopub.status.idle": "2024-12-18T21:44:26.812852Z",
     "shell.execute_reply": "2024-12-18T21:44:26.812199Z",
     "shell.execute_reply.started": "2024-12-18T21:41:12.889770Z"
    },
    "trusted": true
   },
   "outputs": [
    {
     "name": "stdout",
     "output_type": "stream",
     "text": [
      "Epoch 1/5\n",
      "\u001b[1m25/25\u001b[0m \u001b[32m━━━━━━━━━━━━━━━━━━━━\u001b[0m\u001b[37m\u001b[0m \u001b[1m47s\u001b[0m 2s/step - accuracy: 0.5275 - loss: 0.9741 - val_accuracy: 0.7538 - val_loss: 0.7698\n",
      "Epoch 2/5\n",
      "\u001b[1m25/25\u001b[0m \u001b[32m━━━━━━━━━━━━━━━━━━━━\u001b[0m\u001b[37m\u001b[0m \u001b[1m37s\u001b[0m 1s/step - accuracy: 0.6940 - loss: 0.7369 - val_accuracy: 0.8677 - val_loss: 0.4791\n",
      "Epoch 3/5\n",
      "\u001b[1m25/25\u001b[0m \u001b[32m━━━━━━━━━━━━━━━━━━━━\u001b[0m\u001b[37m\u001b[0m \u001b[1m37s\u001b[0m 1s/step - accuracy: 0.8419 - loss: 0.5153 - val_accuracy: 0.8920 - val_loss: 0.3918\n",
      "Epoch 4/5\n",
      "\u001b[1m25/25\u001b[0m \u001b[32m━━━━━━━━━━━━━━━━━━━━\u001b[0m\u001b[37m\u001b[0m \u001b[1m37s\u001b[0m 1s/step - accuracy: 0.8841 - loss: 0.4207 - val_accuracy: 0.8942 - val_loss: 0.3759\n",
      "Epoch 5/5\n",
      "\u001b[1m25/25\u001b[0m \u001b[32m━━━━━━━━━━━━━━━━━━━━\u001b[0m\u001b[37m\u001b[0m \u001b[1m37s\u001b[0m 1s/step - accuracy: 0.9043 - loss: 0.3699 - val_accuracy: 0.8997 - val_loss: 0.3620\n"
     ]
    }
   ],
   "source": [
    "from keras.callbacks import EarlyStopping\n",
    "early_stopping = EarlyStopping(monitor='val_loss', patience=3, restore_best_weights=True)\n",
    "\n",
    "BiLSTM_history = BiLSTM.fit(X_train, y_train,\n",
    "                            batch_size=1024,\n",
    "                            epochs=5,\n",
    "                            verbose=1,\n",
    "                            validation_split=0.2,\n",
    "                            callbacks=[early_stopping])"
   ]
  },
  {
   "cell_type": "code",
   "execution_count": 56,
   "metadata": {
    "execution": {
     "iopub.execute_input": "2024-12-18T21:57:35.542570Z",
     "iopub.status.busy": "2024-12-18T21:57:35.542208Z",
     "iopub.status.idle": "2024-12-18T22:01:02.704634Z",
     "shell.execute_reply": "2024-12-18T22:01:02.703760Z",
     "shell.execute_reply.started": "2024-12-18T21:57:35.542523Z"
    },
    "trusted": true
   },
   "outputs": [
    {
     "name": "stdout",
     "output_type": "stream",
     "text": [
      "\u001b[1m425/425\u001b[0m \u001b[32m━━━━━━━━━━━━━━━━━━━━\u001b[0m\u001b[37m\u001b[0m \u001b[1m106s\u001b[0m 249ms/step - accuracy: 0.9029 - loss: 0.3556\n",
      "Test Loss: 0.3604, Test Accuracy: 0.9018\n",
      "\u001b[1m425/425\u001b[0m \u001b[32m━━━━━━━━━━━━━━━━━━━━\u001b[0m\u001b[37m\u001b[0m \u001b[1m101s\u001b[0m 236ms/step\n",
      "              precision    recall  f1-score   support\n",
      "\n",
      "           0       0.88      0.94      0.90      6772\n",
      "           1       0.93      0.87      0.90      6828\n",
      "\n",
      "    accuracy                           0.90     13600\n",
      "   macro avg       0.90      0.90      0.90     13600\n",
      "weighted avg       0.90      0.90      0.90     13600\n",
      "\n"
     ]
    }
   ],
   "source": [
    "from sklearn.metrics import  classification_report\n",
    "# Evaluate on test data\n",
    "test_loss, test_accuracy = BiLSTM.evaluate(X_test, y_test, verbose=1)\n",
    "print(f\"Test Loss: {test_loss:.4f}, Test Accuracy: {test_accuracy:.4f}\")\n",
    "\n",
    "# Classification report\n",
    "y_pred = (BiLSTM.predict(X_test) > 0.5).astype(\"int32\").flatten()\n",
    "\n",
    "print(classification_report(y_test, y_pred))\n"
   ]
  },
  {
   "cell_type": "markdown",
   "metadata": {},
   "source": [
    "#### Lưu model"
   ]
  },
  {
   "cell_type": "code",
   "execution_count": 55,
   "metadata": {
    "execution": {
     "iopub.execute_input": "2024-12-18T21:56:01.501668Z",
     "iopub.status.busy": "2024-12-18T21:56:01.501305Z",
     "iopub.status.idle": "2024-12-18T21:56:02.030064Z",
     "shell.execute_reply": "2024-12-18T21:56:02.029039Z",
     "shell.execute_reply.started": "2024-12-18T21:56:01.501637Z"
    },
    "trusted": true
   },
   "outputs": [],
   "source": [
    "import pickle\n",
    "with open(\"/kaggle/working/bilstm.pkl\", \"wb\") as f:\n",
    "    pickle.dump(BiLSTM, f)"
   ]
  },
  {
   "cell_type": "code",
   "execution_count": 51,
   "metadata": {
    "execution": {
     "iopub.execute_input": "2024-12-18T21:23:58.885006Z",
     "iopub.status.busy": "2024-12-18T21:23:58.884445Z",
     "iopub.status.idle": "2024-12-18T21:23:59.239366Z",
     "shell.execute_reply": "2024-12-18T21:23:59.238599Z",
     "shell.execute_reply.started": "2024-12-18T21:23:58.884975Z"
    },
    "trusted": true
   },
   "outputs": [
    {
     "data": {
      "image/png": "[encoded data removed]",
      "text/plain": [
       "<Figure size 640x480 with 1 Axes>"
      ]
     },
     "metadata": {},
     "output_type": "display_data"
    },
    {
     "data": {
      "image/png": "[encoded data removed]",
      "text/plain": [
       "<Figure size 640x480 with 1 Axes>"
      ]
     },
     "metadata": {},
     "output_type": "display_data"
    }
   ],
   "source": [
    "# Model Performance Charts\n",
    "\n",
    "import matplotlib.pyplot as plt\n",
    "\n",
    "plt.plot(BiLSTM_history.history['accuracy'])\n",
    "plt.plot(BiLSTM_history.history['val_accuracy'])\n",
    "\n",
    "plt.title('model accuracy')\n",
    "plt.ylabel('accuracy')\n",
    "plt.xlabel('epoch')\n",
    "plt.legend(['train','test'], loc = 'upper left')\n",
    "plt.show()\n",
    "\n",
    "plt.plot(BiLSTM_history.history['loss'])\n",
    "plt.plot(BiLSTM_history.history['val_loss'])\n",
    "\n",
    "plt.title('model loss')\n",
    "plt.ylabel('loss')\n",
    "plt.xlabel('epoch')\n",
    "plt.legend(['train','test'], loc = 'upper left')\n",
    "plt.show()"
   ]
  },
  {
   "cell_type": "code",
   "execution_count": 45,
   "metadata": {
    "execution": {
     "iopub.execute_input": "2024-12-18T20:58:16.336287Z",
     "iopub.status.busy": "2024-12-18T20:58:16.335950Z",
     "iopub.status.idle": "2024-12-18T20:58:16.429101Z",
     "shell.execute_reply": "2024-12-18T20:58:16.428358Z",
     "shell.execute_reply.started": "2024-12-18T20:58:16.336251Z"
    },
    "trusted": true
   },
   "outputs": [
    {
     "name": "stdout",
     "output_type": "stream",
     "text": [
      "y_test shape: (13600,)\n",
      "y_pred shape: (13600,)\n"
     ]
    },
    {
     "data": {
      "image/png": "[encoded data removed]",
      "text/plain": [
       "<Figure size 800x600 with 1 Axes>"
      ]
     },
     "metadata": {},
     "output_type": "display_data"
    }
   ],
   "source": [
    "from sklearn.metrics import confusion_matrix\n",
    "import seaborn as sns\n",
    "import matplotlib.pyplot as plt\n",
    "\n",
    "\n",
    "# Kiểm tra kích thước\n",
    "print(\"y_test shape:\", y_test.shape)\n",
    "print(\"y_pred shape:\", y_pred.shape)\n",
    "\n",
    "# Tính toán Confusion Matrix\n",
    "cf_matrix = confusion_matrix(y_test, y_pred)\n",
    "\n",
    "# Vẽ Confusion Matrix\n",
    "plt.figure(figsize=(8, 6))\n",
    "sns.heatmap(cf_matrix, annot=True, fmt='g', cmap='Blues', cbar=False)\n",
    "plt.xlabel('Predicted label')\n",
    "plt.ylabel('True label')\n",
    "plt.title('Confusion Matrix')\n",
    "plt.show()"
   ]
  }
 ],
 "metadata": {
  "kaggle": {
   "accelerator": "nvidiaTeslaT4",
   "dataSources": [
    {
     "datasetId": 6331059,
     "sourceId": 10238025,
     "sourceType": "datasetVersion"
    },
    {
     "datasetId": 6331156,
     "sourceId": 10238141,
     "sourceType": "datasetVersion"
    },
    {
     "datasetId": 6331164,
     "sourceId": 10238801,
     "sourceType": "datasetVersion"
    },
    {
     "isSourceIdPinned": true,
     "modelId": 195588,
     "modelInstanceId": 173249,
     "sourceId": 203059,
     "sourceType": "modelInstanceVersion"
    }
   ],
   "dockerImageVersionId": 30805,
   "isGpuEnabled": true,
   "isInternetEnabled": true,
   "language": "python",
   "sourceType": "notebook"
  },
  "kernelspec": {
   "display_name": "Python 3",
   "language": "python",
   "name": "python3"
  },
  "language_info": {
   "codemirror_mode": {
    "name": "ipython",
    "version": 3
   },
   "file_extension": ".py",
   "mimetype": "text/x-python",
   "name": "python",
   "nbconvert_exporter": "python",
   "pygments_lexer": "ipython3",
   "version": "3.10.14"
  }
 },
 "nbformat": 4,
 "nbformat_minor": 4
}
