{
 "cells": [
  {
   "cell_type": "markdown",
   "metadata": {},
   "source": [
    "### Load Dataset"
   ]
  },
  {
   "cell_type": "code",
   "execution_count": 1,
   "metadata": {},
   "outputs": [],
   "source": [
    "import pandas as pd\n",
    "data = pd.read_csv(r'../resources/processed_data.csv')"
   ]
  },
  {
   "cell_type": "markdown",
   "metadata": {},
   "source": [
    "### Multi-Layers Perceptron"
   ]
  },
  {
   "cell_type": "code",
   "execution_count": 2,
   "metadata": {},
   "outputs": [],
   "source": [
    "from sklearn.base import BaseEstimator, ClassifierMixin\n",
    "from sklearn.model_selection import GridSearchCV\n",
    "from sklearn.metrics import accuracy_score, classification_report\n",
    "import matplotlib.pyplot as plt\n",
    "from keras.models import Sequential\n",
    "from keras.layers import Dense, Dropout, BatchNormalization\n",
    "from keras.optimizers import Adam\n",
    "from keras.callbacks import EarlyStopping\n",
    "from keras.regularizers import l2\n",
    "\n",
    "# Hàm tạo mô hình MLP\n",
    "def create_mlp_model(input_dim, num_layers=1, num_neurons=128):\n",
    "    model = Sequential()\n",
    "    model.add(Dense(num_neurons, activation='relu', input_dim=input_dim, kernel_regularizer=l2(0.001)))\n",
    "    model.add(BatchNormalization())\n",
    "    model.add(Dropout(0.3))\n",
    "\n",
    "    for _ in range(num_layers - 1):  \n",
    "        model.add(Dense(num_neurons, activation='relu', kernel_regularizer=l2(0.001)))\n",
    "        model.add(BatchNormalization())\n",
    "        model.add(Dropout(0.3))\n",
    "\n",
    "    model.add(Dense(1, activation='sigmoid'))  \n",
    "    model.compile(optimizer=Adam(), loss='binary_crossentropy', metrics=['accuracy'])\n",
    "    return model\n",
    "\n",
    "# Wrapper cho mô hình Keras\n",
    "class KerasMLPWrapper(BaseEstimator, ClassifierMixin):\n",
    "    def __init__(self, input_dim, num_layers=1, num_neurons=128, batch_size=128, epochs=15):\n",
    "        self.input_dim = input_dim\n",
    "        self.num_layers = num_layers\n",
    "        self.num_neurons = num_neurons\n",
    "        self.batch_size = batch_size\n",
    "        self.epochs = epochs\n",
    "\n",
    "    def fit(self, X, y):\n",
    "        self.model = create_mlp_model(self.input_dim, self.num_layers, self.num_neurons)\n",
    "        early_stopping = EarlyStopping(monitor='val_loss', patience=3, mode='min', verbose=1)\n",
    "        self.history = self.model.fit(\n",
    "            X, y, \n",
    "            batch_size=self.batch_size, \n",
    "            epochs=self.epochs, \n",
    "            validation_split=0.2, \n",
    "            callbacks=[early_stopping],\n",
    "            verbose=1\n",
    "        )\n",
    "        return self\n",
    "\n",
    "    def predict(self, X):\n",
    "        return (self.model.predict(X) > 0.5).astype(\"int32\")\n",
    "\n",
    "    def score(self, X, y):\n",
    "        return self.model.evaluate(X, y, verbose=0)[1]  \n",
    "\n",
    "# Cài đặt GridSearchCV với wrapper Keras\n",
    "grid_params = {\n",
    "    'num_layers': [1, 3, 5],  \n",
    "    'num_neurons': [128, 256]  \n",
    "}\n"
   ]
  },
  {
   "cell_type": "markdown",
   "metadata": {},
   "source": [
    "- TF-IDF"
   ]
  },
  {
   "cell_type": "code",
   "execution_count": 3,
   "metadata": {},
   "outputs": [
    {
     "data": {
      "text/plain": [
       "(34707, 10000)"
      ]
     },
     "execution_count": 3,
     "metadata": {},
     "output_type": "execute_result"
    }
   ],
   "source": [
    "from sklearn.feature_extraction.text import TfidfVectorizer\n",
    "from sklearn.model_selection import train_test_split\n",
    "from sklearn.metrics import accuracy_score, classification_report\n",
    "from sklearn.preprocessing import LabelEncoder\n",
    "\n",
    "# Chuyển dữ liệu sang đặc trưng số sử dụng TF-IDF\n",
    "tfidf = TfidfVectorizer(max_features=10000) \n",
    "\n",
    "# Chia data thành các tập train và test\n",
    "X = tfidf.fit_transform(data['Processed_Review']).toarray()\n",
    "# Chuyển sentiment positive thành 1 và negative thành 0\n",
    "label_encoder = LabelEncoder()\n",
    "y = label_encoder.fit_transform(data['sentiment'])\n",
    "\n",
    "\n",
    "X_train, X_test, y_train, y_test = train_test_split(X, y, test_size=0.3, random_state=1)\n",
    "X_train.shape"
   ]
  },
  {
   "cell_type": "code",
   "execution_count": null,
   "metadata": {},
   "outputs": [],
   "source": [
    "# Chạy GridSearch trên tập train\n",
    "model = KerasMLPWrapper(input_dim=X_train.shape[1])\n",
    "grid_search = GridSearchCV(estimator=model, param_grid=grid_params, cv=3, n_jobs=1, verbose=1)\n",
    "grid_search_result = grid_search.fit(X_train, y_train)\n",
    "\n",
    "# In kết quả tốt nhất\n",
    "print(f\"Best parameters: {grid_search_result.best_params_}\")"
   ]
  },
  {
   "cell_type": "code",
   "execution_count": null,
   "metadata": {},
   "outputs": [],
   "source": [
    "from sklearn.metrics import confusion_matrix, ConfusionMatrixDisplay\n",
    "import matplotlib.pyplot as plt\n",
    "\n",
    "# Đánh giá mô hình tốt nhất trên tập test\n",
    "best_model = grid_search_result.best_estimator_\n",
    "y_pred = best_model.predict(X_test)\n",
    "\n",
    "# Báo cáo phân loại và độ chính xác\n",
    "print(\"Classification Report:\")\n",
    "print(classification_report(y_test, y_pred))\n",
    "\n",
    "accuracy = accuracy_score(y_test, y_pred)\n",
    "print(f\"Test Accuracy: {accuracy:.4f}\")\n",
    "\n",
    "# Vẽ Biểu Đồ Độ Chính Xác\n",
    "history = best_model.history\n",
    "\n",
    "# Biểu đồ Độ Chính Xác\n",
    "plt.figure(figsize=(10, 5))\n",
    "plt.plot(history.history['accuracy'], label='Train Accuracy')\n",
    "plt.plot(history.history['val_accuracy'], label='Validation Accuracy', linestyle='--')\n",
    "plt.title('Model Accuracy')\n",
    "plt.xlabel('Epochs')\n",
    "plt.ylabel('Accuracy')\n",
    "plt.legend()\n",
    "plt.grid(True, linestyle='--', alpha=0.6)\n",
    "plt.show()  # Hiển thị biểu đồ độ chính xác\n",
    "\n",
    "# Vẽ Ma Trận Nhầm Lẫn\n",
    "plt.figure(figsize=(8, 6))\n",
    "cm = confusion_matrix(y_test, y_pred)\n",
    "disp = ConfusionMatrixDisplay(confusion_matrix=cm, display_labels=label_encoder.classes_)\n",
    "disp.plot(cmap='Blues', colorbar=False)\n",
    "plt.title('Confusion Matrix')\n",
    "plt.show()  # Hiển thị ma trận nhầm lẫn"
   ]
  },
  {
   "cell_type": "markdown",
   "metadata": {},
   "source": [
    "- Word2Vec"
   ]
  },
  {
   "cell_type": "code",
   "execution_count": 6,
   "metadata": {},
   "outputs": [],
   "source": [
    "import pickle \n",
    "with open(\"../resources/X_w2v_train.pkl\", \"rb\") as f:\n",
    "    X_w2v_train = pickle.load(f)\n",
    "with open(\"../resources/X_w2v_test.pkl\", \"rb\") as f:\n",
    "    X_w2v_test = pickle.load(f)\n",
    "with open(\"../resources/y_train.pkl\", \"rb\") as f:\n",
    "    y_w2v_train = pickle.load(f)\n",
    "with open(\"../resources/y_test.pkl\", \"rb\") as f:\n",
    "    y_w2v_test = pickle.load(f)"
   ]
  },
  {
   "cell_type": "code",
   "execution_count": 7,
   "metadata": {},
   "outputs": [
    {
     "data": {
      "text/plain": [
       "(35000, 400)"
      ]
     },
     "execution_count": 7,
     "metadata": {},
     "output_type": "execute_result"
    }
   ],
   "source": [
    "import numpy as np\n",
    "\n",
    "X_w2v_train = np.array(X_w2v_train)\n",
    "X_w2v_test = np.array(X_w2v_test)\n",
    "\n",
    "X_w2v_train.shape"
   ]
  },
  {
   "cell_type": "code",
   "execution_count": 8,
   "metadata": {},
   "outputs": [],
   "source": [
    "import numpy as np\n",
    "\n",
    "y_w2v_train = [1 if label == 'positive' else 0 for label in y_w2v_train]\n",
    "y_w2v_test = [1 if label == 'positive' else 0 for label in y_w2v_test]\n",
    "\n",
    "y_w2v_train = np.array(y_w2v_train)\n",
    "y_w2v_test = np.array(y_w2v_test)\n"
   ]
  },
  {
   "cell_type": "code",
   "execution_count": 9,
   "metadata": {},
   "outputs": [
    {
     "name": "stdout",
     "output_type": "stream",
     "text": [
      "[1 1 0 ... 0 1 1]\n"
     ]
    }
   ],
   "source": [
    "print(y_w2v_test)"
   ]
  },
  {
   "cell_type": "code",
   "execution_count": null,
   "metadata": {},
   "outputs": [],
   "source": [
    "# Chạy GridSearch trên tập train\n",
    "model = KerasMLPWrapper(input_dim=X_w2v_train.shape[1])\n",
    "grid_search = GridSearchCV(estimator=model, param_grid=grid_params, cv=3, n_jobs=1, verbose=1)\n",
    "grid_search_result = grid_search.fit(X_w2v_train, y_w2v_train)\n",
    "\n",
    "# In kết quả tốt nhất\n",
    "print(f\"Best parameters: {grid_search_result.best_params_}\")"
   ]
  },
  {
   "cell_type": "code",
   "execution_count": null,
   "metadata": {},
   "outputs": [],
   "source": [
    "from sklearn.metrics import confusion_matrix, ConfusionMatrixDisplay\n",
    "import matplotlib.pyplot as plt\n",
    "\n",
    "# Đánh giá mô hình tốt nhất trên tập test\n",
    "best_model = grid_search_result.best_estimator_\n",
    "y_w2v_pred = best_model.predict(X_w2v_test)\n",
    "\n",
    "# Báo cáo phân loại và độ chính xác\n",
    "print(\"Classification Report:\")\n",
    "print(classification_report(y_w2v_test, y_w2v_pred))\n",
    "\n",
    "accuracy = accuracy_score(y_w2v_test, y_w2v_pred)\n",
    "print(f\"Test Accuracy: {accuracy:.4f}\")\n",
    "\n",
    "# Vẽ Biểu Đồ Độ Chính Xác\n",
    "history = best_model.history\n",
    "\n",
    "# Biểu đồ Độ Chính Xác\n",
    "plt.figure(figsize=(10, 5))\n",
    "plt.plot(history.history['accuracy'], label='Train Accuracy')\n",
    "plt.plot(history.history['val_accuracy'], label='Validation Accuracy', linestyle='--')\n",
    "plt.title('Model Accuracy')\n",
    "plt.xlabel('Epochs')\n",
    "plt.ylabel('Accuracy')\n",
    "plt.legend()\n",
    "plt.grid(True, linestyle='--', alpha=0.6)\n",
    "plt.show()  # Hiển thị biểu đồ độ chính xác\n",
    "\n",
    "\n",
    "# Vẽ Ma Trận Nhầm Lẫn\n",
    "plt.figure(figsize=(8, 6))\n",
    "cm = confusion_matrix(y_w2v_test, y_w2v_pred)\n",
    "disp = ConfusionMatrixDisplay(confusion_matrix=cm, display_labels=[\"negative\", \"positive\"])\n",
    "disp.plot(cmap='Blues', colorbar=True)\n",
    "plt.title('Confusion Matrix')\n",
    "plt.show()\n"
   ]
  }
 ],
 "metadata": {
  "kernelspec": {
   "display_name": "base",
   "language": "python",
   "name": "python3"
  },
  "language_info": {
   "codemirror_mode": {
    "name": "ipython",
    "version": 3
   },
   "file_extension": ".py",
   "mimetype": "text/x-python",
   "name": "python",
   "nbconvert_exporter": "python",
   "pygments_lexer": "ipython3",
   "version": "3.12.7"
  }
 },
 "nbformat": 4,
 "nbformat_minor": 2
}
