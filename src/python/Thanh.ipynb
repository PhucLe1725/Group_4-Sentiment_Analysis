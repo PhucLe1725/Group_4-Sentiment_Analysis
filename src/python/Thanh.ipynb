{
 "cells": [
  {
   "cell_type": "markdown",
   "metadata": {},
   "source": [
    "# Sentiment analysis"
   ]
  },
  {
   "cell_type": "markdown",
   "metadata": {},
   "source": [
    "##  Set up"
   ]
  },
  {
   "cell_type": "code",
   "execution_count": 5,
   "metadata": {},
   "outputs": [],
   "source": [
    "#%pip install numpy pandas nltk sklearn"
   ]
  },
  {
   "cell_type": "code",
   "execution_count": 1,
   "metadata": {},
   "outputs": [],
   "source": [
    "import numpy as np \n",
    "import pandas as pd\n",
    "import nltk\n",
    "from nltk.corpus import stopwords\n",
    "import string"
   ]
  },
  {
   "cell_type": "markdown",
   "metadata": {},
   "source": [
    "## Load dataset"
   ]
  },
  {
   "cell_type": "code",
   "execution_count": 2,
   "metadata": {},
   "outputs": [
    {
     "data": {
      "text/html": [
       "<div>\n",
       "<style scoped>\n",
       "    .dataframe tbody tr th:only-of-type {\n",
       "        vertical-align: middle;\n",
       "    }\n",
       "\n",
       "    .dataframe tbody tr th {\n",
       "        vertical-align: top;\n",
       "    }\n",
       "\n",
       "    .dataframe thead th {\n",
       "        text-align: right;\n",
       "    }\n",
       "</style>\n",
       "<table border=\"1\" class=\"dataframe\">\n",
       "  <thead>\n",
       "    <tr style=\"text-align: right;\">\n",
       "      <th></th>\n",
       "      <th>review</th>\n",
       "      <th>sentiment</th>\n",
       "    </tr>\n",
       "  </thead>\n",
       "  <tbody>\n",
       "    <tr>\n",
       "      <th>0</th>\n",
       "      <td>One of the other reviewers has mentioned that ...</td>\n",
       "      <td>positive</td>\n",
       "    </tr>\n",
       "    <tr>\n",
       "      <th>1</th>\n",
       "      <td>A wonderful little production. &lt;br /&gt;&lt;br /&gt;The...</td>\n",
       "      <td>positive</td>\n",
       "    </tr>\n",
       "    <tr>\n",
       "      <th>2</th>\n",
       "      <td>I thought this was a wonderful way to spend ti...</td>\n",
       "      <td>positive</td>\n",
       "    </tr>\n",
       "    <tr>\n",
       "      <th>3</th>\n",
       "      <td>Basically there's a family where a little boy ...</td>\n",
       "      <td>negative</td>\n",
       "    </tr>\n",
       "    <tr>\n",
       "      <th>4</th>\n",
       "      <td>Petter Mattei's \"Love in the Time of Money\" is...</td>\n",
       "      <td>positive</td>\n",
       "    </tr>\n",
       "  </tbody>\n",
       "</table>\n",
       "</div>"
      ],
      "text/plain": [
       "                                              review sentiment\n",
       "0  One of the other reviewers has mentioned that ...  positive\n",
       "1  A wonderful little production. <br /><br />The...  positive\n",
       "2  I thought this was a wonderful way to spend ti...  positive\n",
       "3  Basically there's a family where a little boy ...  negative\n",
       "4  Petter Mattei's \"Love in the Time of Money\" is...  positive"
      ]
     },
     "execution_count": 2,
     "metadata": {},
     "output_type": "execute_result"
    }
   ],
   "source": [
    "df = pd.read_csv(r'../resources/IMDB Dataset.csv')\n",
    "df.head()"
   ]
  },
  {
   "cell_type": "code",
   "execution_count": 3,
   "metadata": {},
   "outputs": [
    {
     "data": {
      "text/plain": [
       "'A wonderful little production. <br /><br />The filming technique is very unassuming- very old-time-BBC fashion and gives a comforting, and sometimes discomforting, sense of realism to the entire piece. <br /><br />The actors are extremely well chosen- Michael Sheen not only \"has got all the polari\" but he has all the voices down pat too! You can truly see the seamless editing guided by the references to Williams\\' diary entries, not only is it well worth the watching but it is a terrificly written and performed piece. A masterful production about one of the great master\\'s of comedy and his life. <br /><br />The realism really comes home with the little things: the fantasy of the guard which, rather than use the traditional \\'dream\\' techniques remains solid then disappears. It plays on our knowledge and our senses, particularly with the scenes concerning Orton and Halliwell and the sets (particularly of their flat with Halliwell\\'s murals decorating every surface) are terribly well done.'"
      ]
     },
     "execution_count": 3,
     "metadata": {},
     "output_type": "execute_result"
    }
   ],
   "source": [
    "df['review'][1]"
   ]
  },
  {
   "cell_type": "markdown",
   "metadata": {},
   "source": [
    "## Tiền xử lý dữ liệu"
   ]
  },
  {
   "cell_type": "markdown",
   "metadata": {},
   "source": [
    "### Làm sạch dữ liệu \n",
    "- Loại bỏ các thẻ HTML\n",
    "- Loại bỏ khoảng trắng thừa và dấu câu \n",
    "- Chuyển đổi chữ hoa thành chữ thường "
   ]
  },
  {
   "cell_type": "markdown",
   "metadata": {},
   "source": [
    "#### Loại bỏ thẻ HTML"
   ]
  },
  {
   "cell_type": "code",
   "execution_count": 4,
   "metadata": {},
   "outputs": [
    {
     "data": {
      "text/plain": [
       "'I thought this was a wonderful way to spend time on a too hot summer weekend, sitting in the air conditioned theater and watching a light-hearted comedy. The plot is simplistic, but the dialogue is witty and the characters are likable (even the well bread suspected serial killer). While some may be disappointed when they realize this is not Match Point 2: Risk Addiction, I thought it was proof that Woody Allen is still fully in control of the style many of us have grown to love.This was the most I\\'d laughed at one of Woody\\'s comedies in years (dare I say a decade?). While I\\'ve never been impressed with Scarlet Johanson, in this she managed to tone down her \"sexy\" image and jumped right into a average, but spirited young woman.This may not be the crown jewel of his career, but it was wittier than \"Devil Wears Prada\" and more interesting than \"Superman\" a great comedy to go see with friends.'"
      ]
     },
     "execution_count": 4,
     "metadata": {},
     "output_type": "execute_result"
    }
   ],
   "source": [
    "df['review'] = df['review'].str.replace(\"<br />\", \"\")\n",
    "df['review'][2]"
   ]
  },
  {
   "cell_type": "markdown",
   "metadata": {},
   "source": [
    "#### Loại bỏ khoảng trắng thừa và dấu câu"
   ]
  },
  {
   "cell_type": "code",
   "execution_count": 5,
   "metadata": {},
   "outputs": [],
   "source": [
    "df['review'] = df['review'].str.translate(str.maketrans('', '', string.punctuation))"
   ]
  },
  {
   "cell_type": "markdown",
   "metadata": {},
   "source": [
    "#### Loại bỏ stop words"
   ]
  },
  {
   "cell_type": "code",
   "execution_count": 6,
   "metadata": {},
   "outputs": [
    {
     "name": "stderr",
     "output_type": "stream",
     "text": [
      "[nltk_data] Downloading package stopwords to\n",
      "[nltk_data]     C:\\Users\\PAVT\\AppData\\Roaming\\nltk_data...\n",
      "[nltk_data]   Package stopwords is already up-to-date!\n"
     ]
    }
   ],
   "source": [
    "# Tải stop words từ nltk\n",
    "nltk.download('stopwords')\n",
    "stop_words = set(stopwords.words('english'))"
   ]
  },
  {
   "cell_type": "code",
   "execution_count": 11,
   "metadata": {},
   "outputs": [],
   "source": [
    "stop_words.remove('no')\n",
    "stop_words.remove('not')"
   ]
  },
  {
   "cell_type": "code",
   "execution_count": 12,
   "metadata": {},
   "outputs": [],
   "source": [
    "def remove_stop_words(text):\n",
    "    words = text.split()\n",
    "    filter_words = [word for word in words if word not in stop_words]\n",
    "    return ' '.join(filter_words)"
   ]
  },
  {
   "cell_type": "code",
   "execution_count": null,
   "metadata": {},
   "outputs": [
    {
     "data": {
      "text/plain": [
       "'I thought wonderful way spend time hot summer weekend sitting air conditioned theater watching lighthearted comedy The plot simplistic dialogue witty characters likable even well bread suspected serial killer While may disappointed realize Match Point 2 Risk Addiction I thought proof Woody Allen still fully control style many us grown loveThis Id laughed one Woodys comedies years dare I say decade While Ive never impressed Scarlet Johanson managed tone sexy image jumped right average spirited young womanThis may crown jewel career wittier Devil Wears Prada interesting Superman great comedy go see friends'"
      ]
     },
     "execution_count": 9,
     "metadata": {},
     "output_type": "execute_result"
    }
   ],
   "source": [
    "# df['review'] = df['review'].apply(remove_stop_words)\n",
    "# df['review'][2]"
   ]
  },
  {
   "cell_type": "markdown",
   "metadata": {},
   "source": [
    "#### Chuyển chữ hoa thành chữ thường "
   ]
  },
  {
   "cell_type": "code",
   "execution_count": 13,
   "metadata": {},
   "outputs": [
    {
     "data": {
      "text/plain": [
       "'i thought this was a wonderful way to spend time on a too hot summer weekend sitting in the air conditioned theater and watching a lighthearted comedy the plot is simplistic but the dialogue is witty and the characters are likable even the well bread suspected serial killer while some may be disappointed when they realize this is not match point 2 risk addiction i thought it was proof that woody allen is still fully in control of the style many of us have grown to lovethis was the most id laughed at one of woodys comedies in years dare i say a decade while ive never been impressed with scarlet johanson in this she managed to tone down her sexy image and jumped right into a average but spirited young womanthis may not be the crown jewel of his career but it was wittier than devil wears prada and more interesting than superman a great comedy to go see with friends'"
      ]
     },
     "execution_count": 13,
     "metadata": {},
     "output_type": "execute_result"
    }
   ],
   "source": [
    "df['review'] = df['review'].str.lower()\n",
    "df['review'][2]"
   ]
  },
  {
   "cell_type": "markdown",
   "metadata": {},
   "source": [
    "### Chia dữ liệu"
   ]
  },
  {
   "cell_type": "code",
   "execution_count": 14,
   "metadata": {},
   "outputs": [],
   "source": [
    "data_removed = df['review'].apply(remove_stop_words)\n",
    "# Chia dữ liệu thành tập huấn luyện và tập kiểm tra\n",
    "from sklearn.model_selection import train_test_split\n",
    "X_train, X_test, y_train, y_test = train_test_split(df['review'], df['sentiment'], test_size=0.3, random_state=42)"
   ]
  },
  {
   "cell_type": "markdown",
   "metadata": {},
   "source": [
    "## Word embeddings"
   ]
  },
  {
   "cell_type": "markdown",
   "metadata": {},
   "source": [
    "### Word2Vec"
   ]
  },
  {
   "cell_type": "markdown",
   "metadata": {},
   "source": [
    "#### Nonpretrained model"
   ]
  },
  {
   "cell_type": "code",
   "execution_count": 15,
   "metadata": {},
   "outputs": [],
   "source": [
    "def count(word_check, sentences):\n",
    "    res = 0\n",
    "    for sentence in sentences: \n",
    "        for word in sentence: \n",
    "            if word == word_check: \n",
    "                res += 1\n",
    "    return res\n"
   ]
  },
  {
   "cell_type": "code",
   "execution_count": 16,
   "metadata": {},
   "outputs": [],
   "source": [
    "from gensim.models import Word2Vec"
   ]
  },
  {
   "cell_type": "code",
   "execution_count": 17,
   "metadata": {},
   "outputs": [],
   "source": [
    "sentences = []\n",
    "for sentence in X_train:\n",
    "    sentences.append(sentence.split())"
   ]
  },
  {
   "cell_type": "code",
   "execution_count": 18,
   "metadata": {},
   "outputs": [],
   "source": [
    "model = Word2Vec(sentences, vector_size=100, window=5, min_count=1, workers = 80)"
   ]
  },
  {
   "cell_type": "markdown",
   "metadata": {},
   "source": [
    "#### Pretrained model"
   ]
  },
  {
   "cell_type": "markdown",
   "metadata": {},
   "source": [
    "#### Khảo sát một số từ"
   ]
  },
  {
   "cell_type": "code",
   "execution_count": 19,
   "metadata": {},
   "outputs": [
    {
     "name": "stdout",
     "output_type": "stream",
     "text": [
      "heartwarming: 0.8001381754875183\n",
      "bittersweet: 0.7961912751197815\n",
      "understated: 0.7901477217674255\n",
      "evocative: 0.7856943011283875\n",
      "uplifting: 0.7852193713188171\n",
      "poignant: 0.7798234224319458\n",
      "layered: 0.7721375226974487\n",
      "affecting: 0.7697457671165466\n",
      "breezy: 0.7670418620109558\n",
      "lyrical: 0.7669417858123779\n"
     ]
    }
   ],
   "source": [
    "similar_words = model.wv.most_similar('heartfelt')\n",
    "for word, similarity in similar_words:\n",
    "    print(f\"{word}: {similarity}\")"
   ]
  },
  {
   "cell_type": "code",
   "execution_count": 20,
   "metadata": {},
   "outputs": [
    {
     "name": "stdout",
     "output_type": "stream",
     "text": [
      "plotwise: 0.834276020526886\n",
      "irritatingly: 0.8269851803779602\n",
      "witless: 0.8269438743591309\n",
      "puerile: 0.8266245722770691\n",
      "insufferably: 0.8226025104522705\n",
      "obnoxiously: 0.8024957180023193\n",
      "imitated: 0.8019513487815857\n",
      "excessively: 0.8009130954742432\n",
      "unforgivably: 0.7986444234848022\n",
      "arbitrary: 0.7982031106948853\n"
     ]
    }
   ],
   "source": [
    "similar_words = model.wv.most_similar('insincere')\n",
    "for word, similarity in similar_words:\n",
    "    print(f\"{word}: {similarity}\")"
   ]
  },
  {
   "cell_type": "code",
   "execution_count": 21,
   "metadata": {},
   "outputs": [
    {
     "name": "stdout",
     "output_type": "stream",
     "text": [
      "unsettling: 0.8296356797218323\n",
      "tense: 0.8232300281524658\n",
      "improbable: 0.8071044683456421\n",
      "unnerving: 0.8028813004493713\n",
      "ingenious: 0.8008222579956055\n",
      "engrossing: 0.798582911491394\n",
      "unsatisfying: 0.7927833199501038\n",
      "gripping: 0.7894553542137146\n",
      "implausible: 0.7869803309440613\n",
      "poignant: 0.7825915217399597\n"
     ]
    }
   ],
   "source": [
    "similar_words = model.wv.most_similar('unpredictable')\n",
    "for word, similarity in similar_words:\n",
    "    print(f\"{word}: {similarity}\")"
   ]
  },
  {
   "cell_type": "code",
   "execution_count": 22,
   "metadata": {},
   "outputs": [
    {
     "name": "stdout",
     "output_type": "stream",
     "text": [
      "philosophical: 0.7582659125328064\n",
      "complex: 0.7323887944221497\n",
      "subtle: 0.7316615581512451\n",
      "compelling: 0.7277553677558899\n",
      "profound: 0.722320556640625\n",
      "coherent: 0.7212851047515869\n",
      "complexity: 0.7182160019874573\n",
      "emotional: 0.7148432731628418\n",
      "clarity: 0.710483968257904\n",
      "layered: 0.7103366851806641\n"
     ]
    }
   ],
   "source": [
    "similar_words = model.wv.most_similar('meaningful')\n",
    "for word, similarity in similar_words:\n",
    "    print(f\"{word}: {similarity}\")"
   ]
  },
  {
   "cell_type": "code",
   "execution_count": 23,
   "metadata": {},
   "outputs": [
    {
     "name": "stdout",
     "output_type": "stream",
     "text": [
      "nonsensical: 0.8519917130470276\n",
      "unnecessary: 0.8366928100585938\n",
      "banal: 0.8338872790336609\n",
      "trite: 0.8285499811172485\n",
      "illogical: 0.8242729902267456\n",
      "pointless: 0.8169264197349548\n",
      "muddled: 0.8167775869369507\n",
      "implausible: 0.8105539083480835\n",
      "melodramatic: 0.8099694848060608\n",
      "contrived: 0.807438850402832\n"
     ]
    }
   ],
   "source": [
    "similar_words = model.wv.most_similar('meaningless')\n",
    "for word, similarity in similar_words:\n",
    "    print(f\"{word}: {similarity}\")"
   ]
  },
  {
   "cell_type": "code",
   "execution_count": 24,
   "metadata": {},
   "outputs": [
    {
     "name": "stdout",
     "output_type": "stream",
     "text": [
      "isnt: 0.5908660292625427\n",
      "neither: 0.5655514597892761\n",
      "hardly: 0.5394440293312073\n",
      "indeed: 0.4811230003833771\n",
      "departmentlooks: 0.4685591757297516\n",
      "listenable: 0.45719319581985474\n",
      "wasnt: 0.44737914204597473\n",
      "notquitetruthful: 0.4423930048942566\n",
      "dieselanyways: 0.4421646296977997\n",
      "unfilmable: 0.44003552198410034\n"
     ]
    }
   ],
   "source": [
    "similar_words = model.wv.most_similar('not')\n",
    "for word, similarity in similar_words:\n",
    "    print(f\"{word}: {similarity}\")"
   ]
  },
  {
   "cell_type": "code",
   "execution_count": 25,
   "metadata": {},
   "outputs": [
    {
     "name": "stdout",
     "output_type": "stream",
     "text": [
      "cohesive: 0.8025611639022827\n",
      "convoluted: 0.7827995419502258\n",
      "linear: 0.7791509032249451\n",
      "simplistic: 0.7666434049606323\n",
      "straightforward: 0.7639018893241882\n",
      "muddled: 0.757595956325531\n",
      "conventional: 0.7551547884941101\n",
      "logical: 0.7473810315132141\n",
      "hackneyed: 0.7448147535324097\n",
      "consistency: 0.74423748254776\n"
     ]
    }
   ],
   "source": [
    "similar_words = model.wv.most_similar('coherent')\n",
    "for word, similarity in similar_words:\n",
    "    print(f\"{word}: {similarity}\")"
   ]
  },
  {
   "cell_type": "code",
   "execution_count": 26,
   "metadata": {},
   "outputs": [
    {
     "name": "stdout",
     "output_type": "stream",
     "text": [
      "effective: 0.8286255598068237\n",
      "spectacular: 0.7694238424301147\n",
      "outstanding: 0.7464741468429565\n",
      "breathtaking: 0.7436376810073853\n",
      "exceptional: 0.7434752583503723\n",
      "uneven: 0.741938591003418\n",
      "imaginative: 0.7355571389198303\n",
      "inventive: 0.7354201078414917\n",
      "atmospheric: 0.7334215044975281\n",
      "authentic: 0.7311122417449951\n"
     ]
    }
   ],
   "source": [
    "similar_words = model.wv.most_similar('impressive')\n",
    "for word, similarity in similar_words:\n",
    "    print(f\"{word}: {similarity}\")"
   ]
  },
  {
   "cell_type": "code",
   "execution_count": 27,
   "metadata": {},
   "outputs": [
    {
     "name": "stdout",
     "output_type": "stream",
     "text": [
      "sizzling: 0.846238374710083\n",
      "threadbare: 0.8315722346305847\n",
      "poorthe: 0.8283817768096924\n",
      "enticing: 0.8268511295318604\n",
      "underwhelming: 0.823237955570221\n",
      "wellcrafted: 0.8171905875205994\n",
      "sparse: 0.8123274445533752\n",
      "unremarkable: 0.8069184422492981\n",
      "pointlessly: 0.8066129684448242\n",
      "outlandish: 0.8050666451454163\n"
     ]
    }
   ],
   "source": [
    "similar_words = model.wv.most_similar('unimpressive')\n",
    "for word, similarity in similar_words:\n",
    "    print(f\"{word}: {similarity}\")"
   ]
  },
  {
   "cell_type": "code",
   "execution_count": 28,
   "metadata": {},
   "outputs": [
    {
     "name": "stdout",
     "output_type": "stream",
     "text": [
      "implausible: 0.8773552775382996\n",
      "ludicrous: 0.8614974617958069\n",
      "uninteresting: 0.8608190417289734\n",
      "unoriginal: 0.8555545210838318\n",
      "uninspired: 0.8484287858009338\n",
      "nonsensical: 0.8420553207397461\n",
      "incomprehensible: 0.8373035192489624\n",
      "absurd: 0.8363911509513855\n",
      "overlong: 0.8352799415588379\n",
      "unimaginative: 0.8349074125289917\n"
     ]
    }
   ],
   "source": [
    "similar_words = model.wv.most_similar('incoherent')\n",
    "for word, similarity in similar_words:\n",
    "    print(f\"{word}: {similarity}\")"
   ]
  },
  {
   "cell_type": "code",
   "execution_count": 29,
   "metadata": {},
   "outputs": [
    {
     "name": "stdout",
     "output_type": "stream",
     "text": [
      "disturbed: 0.8302221298217773\n",
      "suspicious: 0.7902408838272095\n",
      "abused: 0.7796526551246643\n",
      "depressed: 0.7745065689086914\n",
      "sexually: 0.771832287311554\n",
      "humiliated: 0.755045473575592\n",
      "assaulted: 0.7543936371803284\n",
      "frightened: 0.7501185536384583\n",
      "betrayed: 0.7500025629997253\n",
      "verbally: 0.7446112632751465\n"
     ]
    }
   ],
   "source": [
    "similar_words = model.wv.most_similar('frustrated')\n",
    "for word, similarity in similar_words:\n",
    "    print(f\"{word}: {similarity}\")"
   ]
  },
  {
   "cell_type": "code",
   "execution_count": 31,
   "metadata": {},
   "outputs": [
    {
     "name": "stdout",
     "output_type": "stream",
     "text": [
      "hither: 0.7421703338623047\n",
      "unhappiness: 0.7388203144073486\n",
      "suppressed: 0.7276306748390198\n",
      "confronting: 0.7175397276878357\n",
      "girlyoung: 0.7173219919204712\n",
      "enabled: 0.7135430574417114\n",
      "abandonment: 0.7128797769546509\n",
      "mourning: 0.7107270956039429\n",
      "mourns: 0.7059494853019714\n",
      "virtzer: 0.7033678889274597\n"
     ]
    }
   ],
   "source": [
    "similar_words = model.wv.most_similar('fulfilled')\n",
    "for word, similarity in similar_words:\n",
    "    print(f\"{word}: {similarity}\")"
   ]
  },
  {
   "cell_type": "markdown",
   "metadata": {},
   "source": [
    "#### sentence embeddings"
   ]
  },
  {
   "cell_type": "code",
   "execution_count": 32,
   "metadata": {},
   "outputs": [],
   "source": [
    "def cosine_similarity(vec1, vec2):\n",
    "    dot_product = np.dot(vec1, vec2)\n",
    "    norm_vec1 = np.linalg.norm(vec1)\n",
    "    norm_vec2 = np.linalg.norm(vec2)\n",
    "    return dot_product / (norm_vec1 * norm_vec2)"
   ]
  },
  {
   "cell_type": "code",
   "execution_count": 33,
   "metadata": {},
   "outputs": [],
   "source": [
    "def sum_weights(vectors, w):\n",
    "    res = np.zeros(100)\n",
    "    for i in range(len(vectors)):\n",
    "        res += w[i]*vectors[i]\n",
    "    return res"
   ]
  },
  {
   "cell_type": "markdown",
   "metadata": {},
   "source": [
    "Các tiêu chí đánh giá phim: \n",
    "- Kịch bản: \n",
    "    + coherent/ incoherent\n",
    "    + unpredictable/ predictable\n",
    "- Ý nghĩa phim: meaningful/ meaningless\n",
    "- Hiệu ứng: impressive / unimpressive\n",
    "- Cảnh quay: heartfelt / insincere"
   ]
  },
  {
   "cell_type": "code",
   "execution_count": 34,
   "metadata": {},
   "outputs": [],
   "source": [
    "def leaky_ReLU_prob(x):\n",
    "    if x < np.sqrt(3)/2:\n",
    "        return x\n",
    "    else:\n",
    "        return 2*x"
   ]
  },
  {
   "cell_type": "code",
   "execution_count": 35,
   "metadata": {},
   "outputs": [],
   "source": [
    "def id_v(x):\n",
    "    return x"
   ]
  },
  {
   "cell_type": "code",
   "execution_count": 36,
   "metadata": {},
   "outputs": [],
   "source": [
    "list_positive_words = ['heartfelt', 'gripping', 'impressive', 'meaningful', 'coherent']\n",
    "list_negative_words = ['insincere', 'predictable', 'soporific', 'illogical', 'uninteresting']\n",
    "# incoherent == uninteresting\n",
    "# meaningless == illogical\n",
    "# unimpressive == soporific\n",
    "# unpredictable == gripping\n"
   ]
  },
  {
   "cell_type": "code",
   "execution_count": 37,
   "metadata": {},
   "outputs": [],
   "source": [
    "list_positive = [model.wv[word] for word in list_positive_words ]\n",
    "list_negative = [model.wv[word] for word in list_negative_words ]"
   ]
  },
  {
   "cell_type": "code",
   "execution_count": 38,
   "metadata": {},
   "outputs": [
    {
     "name": "stdout",
     "output_type": "stream",
     "text": [
      "0.5650173\n",
      "0.6078095\n",
      "0.43830281\n",
      "0.6171811\n",
      "0.5693754\n"
     ]
    }
   ],
   "source": [
    "for i in range(len(list_positive)):\n",
    "    print(cosine_similarity(list_positive[i], list_negative[i]))"
   ]
  },
  {
   "cell_type": "code",
   "execution_count": 43,
   "metadata": {},
   "outputs": [],
   "source": [
    "positive_vector = sum_weights(list_positive, [2, 1, 3, 1, 1])\n",
    "negative_vector = sum_weights(list_negative, [2, 1, 3, 1, 1])"
   ]
  },
  {
   "cell_type": "code",
   "execution_count": 44,
   "metadata": {},
   "outputs": [
    {
     "data": {
      "text/plain": [
       "0.6480460530391221"
      ]
     },
     "execution_count": 44,
     "metadata": {},
     "output_type": "execute_result"
    }
   ],
   "source": [
    "cosine_similarity(positive_vector, negative_vector)"
   ]
  },
  {
   "cell_type": "code",
   "execution_count": 183,
   "metadata": {},
   "outputs": [],
   "source": [
    "def sentence_to_vector(sentence, model, f = id_v):\n",
    "    word_vectors = [model.wv[word] for word in sentence if word in model.wv] # vector 100 từ\n",
    "    #dedicates= []\n",
    "    pos_weights = []\n",
    "    neg_weights = []\n",
    "    res = np.zeros(model.vector_size)\n",
    "    if len(word_vectors) == 0:\n",
    "        return res\n",
    "    for i in range(len(word_vectors)):\n",
    "        word_vector = word_vectors[i]\n",
    "        checkPositive = cosine_similarity(word_vector, positive_vector) # < 1\n",
    "        checkNegative = cosine_similarity(word_vector, negative_vector) # < 1\n",
    "        # if(checkPositive > checkNegative):\n",
    "        #     dedicates.append(f(checkPositive))\n",
    "        # elif(checkNegative > checkPositive):\n",
    "        #     dedicates.append(f(checkNegative))\n",
    "        # else:\n",
    "        #     dedicates.append(0.0)\n",
    "        # dedicates.append(f(checkPositive + checkNegative))\n",
    "        pos_weights.append(checkPositive)\n",
    "        neg_weights.append(checkNegative)\n",
    "\n",
    "    pos_res = sum_weights(word_vectors, pos_weights)\n",
    "    neg_res = sum_weights(word_vectors, neg_weights)\n",
    "    return np.concatenate([pos_res, neg_res])\n",
    "\n",
    "    # if(len(dedicates) > 0):\n",
    "    #     res = sum_weights(word_vectors,dedicates)\n",
    "    # return res"
   ]
  },
  {
   "cell_type": "code",
   "execution_count": 184,
   "metadata": {},
   "outputs": [],
   "source": [
    "test = sentence_to_vector(X_demo[300].split(), model, f= leaky_ReLU_prob)"
   ]
  },
  {
   "cell_type": "markdown",
   "metadata": {},
   "source": [
    "#### Demo"
   ]
  },
  {
   "cell_type": "code",
   "execution_count": 46,
   "metadata": {},
   "outputs": [],
   "source": [
    "size_demo = 500 \n",
    "values_pos = []\n",
    "values_neg = []\n",
    "X_demo = np.array(X_train[:500])\n",
    "y_demo = np.array(y_train[:500])"
   ]
  },
  {
   "cell_type": "code",
   "execution_count": 47,
   "metadata": {},
   "outputs": [
    {
     "name": "stdout",
     "output_type": "stream",
     "text": [
      "5.0166 - 5.2243 - -0.2077 : negative\n",
      "5.4063 - 4.9693 - 0.4371 : positive\n",
      "5.5606 - 5.9775 - -0.4169 : negative\n",
      "5.2523 - 5.3346 - -0.0823 : positive\n",
      "4.1387 - 5.4236 - -1.2850 : negative\n",
      "5.3927 - 5.4706 - -0.0779 : negative\n",
      "4.8821 - 6.0968 - -1.2147 : negative\n",
      "6.1682 - 5.3615 - 0.8067 : negative\n",
      "4.2670 - 5.0927 - -0.8257 : positive\n",
      "4.9901 - 5.4118 - -0.4217 : negative\n",
      "3.7445 - 3.6773 - 0.0672 : positive\n",
      "3.4923 - 4.7358 - -1.2434 : negative\n",
      "4.6083 - 5.1513 - -0.5430 : positive\n",
      "4.5681 - 4.6848 - -0.1166 : positive\n",
      "5.5129 - 4.6865 - 0.8265 : positive\n",
      "5.3995 - 5.3423 - 0.0573 : positive\n",
      "6.2747 - 5.8908 - 0.3839 : positive\n",
      "5.5280 - 5.5809 - -0.0529 : negative\n",
      "5.4412 - 5.4774 - -0.0361 : negative\n",
      "5.8915 - 5.3959 - 0.4956 : positive\n",
      "4.6387 - 5.4459 - -0.8072 : negative\n",
      "5.3824 - 5.6803 - -0.2979 : negative\n",
      "6.8476 - 6.0576 - 0.7900 : positive\n",
      "6.8227 - 6.0031 - 0.8196 : positive\n",
      "4.9916 - 5.2707 - -0.2792 : negative\n",
      "5.0721 - 4.7575 - 0.3145 : positive\n",
      "5.1717 - 4.7807 - 0.3910 : negative\n",
      "4.3550 - 4.4705 - -0.1155 : positive\n",
      "6.6091 - 6.6174 - -0.0083 : negative\n",
      "5.8547 - 6.9844 - -1.1297 : negative\n",
      "5.9110 - 4.8498 - 1.0612 : positive\n",
      "6.7142 - 5.6876 - 1.0267 : positive\n",
      "5.4346 - 5.9826 - -0.5480 : negative\n",
      "5.7966 - 5.6450 - 0.1517 : negative\n",
      "5.6937 - 5.4388 - 0.2549 : positive\n",
      "4.3692 - 4.6795 - -0.3103 : positive\n",
      "6.5773 - 6.6954 - -0.1181 : negative\n",
      "4.8853 - 5.5023 - -0.6170 : negative\n",
      "5.9226 - 5.7040 - 0.2186 : positive\n",
      "5.9869 - 5.2754 - 0.7115 : positive\n",
      "5.7227 - 5.5195 - 0.2031 : positive\n",
      "4.1494 - 4.7909 - -0.6416 : positive\n",
      "5.1432 - 5.0711 - 0.0721 : positive\n",
      "5.1475 - 4.8448 - 0.3027 : negative\n",
      "6.0612 - 5.5807 - 0.4805 : positive\n",
      "5.9689 - 5.9706 - -0.0016 : negative\n",
      "5.1280 - 5.2962 - -0.1682 : positive\n",
      "4.4574 - 5.0725 - -0.6151 : negative\n",
      "6.1965 - 5.3645 - 0.8320 : negative\n",
      "5.7153 - 5.2559 - 0.4594 : positive\n",
      "4.7627 - 6.9446 - -2.1819 : negative\n",
      "5.2230 - 5.2267 - -0.0037 : negative\n",
      "5.2613 - 5.1169 - 0.1443 : positive\n",
      "4.4358 - 4.6746 - -0.2389 : negative\n",
      "4.6161 - 4.7478 - -0.1317 : positive\n",
      "4.4208 - 4.7016 - -0.2807 : positive\n",
      "5.0665 - 4.6393 - 0.4271 : positive\n",
      "5.8636 - 5.7306 - 0.1330 : negative\n",
      "5.1796 - 5.0672 - 0.1124 : positive\n",
      "5.1033 - 5.2082 - -0.1049 : negative\n",
      "5.2856 - 4.9323 - 0.3533 : positive\n",
      "5.1971 - 5.4064 - -0.2092 : negative\n",
      "4.9075 - 5.4245 - -0.5170 : negative\n",
      "5.4223 - 5.8463 - -0.4240 : positive\n",
      "4.6338 - 5.2337 - -0.5999 : negative\n",
      "5.6740 - 5.0701 - 0.6038 : positive\n",
      "4.7731 - 4.7027 - 0.0704 : positive\n",
      "5.8127 - 4.9547 - 0.8580 : positive\n",
      "5.0473 - 4.5435 - 0.5038 : negative\n",
      "5.0129 - 4.5276 - 0.4853 : negative\n",
      "5.8876 - 5.3401 - 0.5476 : negative\n",
      "4.9383 - 4.8923 - 0.0460 : positive\n",
      "5.3700 - 6.0113 - -0.6413 : negative\n",
      "5.4526 - 6.6804 - -1.2277 : negative\n",
      "4.1912 - 5.4811 - -1.2899 : negative\n",
      "5.0983 - 5.3973 - -0.2990 : negative\n",
      "6.4433 - 5.3077 - 1.1356 : positive\n",
      "5.8822 - 5.6549 - 0.2273 : positive\n",
      "4.6461 - 5.8458 - -1.1997 : negative\n",
      "4.1750 - 5.2189 - -1.0439 : negative\n",
      "5.6408 - 6.0016 - -0.3608 : negative\n",
      "5.1020 - 5.2349 - -0.1329 : positive\n",
      "4.6142 - 5.5426 - -0.9284 : positive\n",
      "5.3920 - 4.9173 - 0.4747 : positive\n",
      "5.7162 - 5.9947 - -0.2786 : negative\n",
      "5.4466 - 5.3417 - 0.1049 : negative\n",
      "4.9680 - 5.8757 - -0.9077 : negative\n",
      "4.5419 - 4.8209 - -0.2791 : negative\n",
      "4.6319 - 4.8755 - -0.2436 : positive\n",
      "7.0879 - 5.2701 - 1.8177 : positive\n",
      "4.6518 - 4.7002 - -0.0484 : positive\n",
      "5.0379 - 4.8288 - 0.2091 : negative\n",
      "4.6896 - 5.4385 - -0.7489 : positive\n",
      "5.4265 - 4.6247 - 0.8019 : positive\n",
      "5.5790 - 5.1711 - 0.4079 : negative\n",
      "4.2741 - 5.1370 - -0.8629 : negative\n",
      "5.1788 - 5.7171 - -0.5383 : negative\n",
      "5.3498 - 6.8906 - -1.5409 : negative\n",
      "6.9707 - 6.2850 - 0.6857 : positive\n",
      "5.8414 - 5.5674 - 0.2740 : positive\n",
      "6.2087 - 5.6356 - 0.5731 : negative\n",
      "5.9740 - 6.4012 - -0.4273 : negative\n",
      "5.2481 - 5.6657 - -0.4176 : negative\n",
      "6.0774 - 4.7148 - 1.3626 : positive\n",
      "5.8805 - 5.7425 - 0.1380 : negative\n",
      "5.1308 - 5.1318 - -0.0010 : negative\n",
      "5.6434 - 5.2395 - 0.4039 : positive\n",
      "6.0795 - 4.9743 - 1.1052 : negative\n",
      "4.4181 - 4.7264 - -0.3083 : negative\n",
      "6.5033 - 5.4693 - 1.0340 : negative\n",
      "6.2730 - 5.3490 - 0.9241 : negative\n",
      "7.1313 - 6.1328 - 0.9985 : positive\n",
      "4.9736 - 4.9995 - -0.0258 : positive\n",
      "5.1205 - 5.4881 - -0.3676 : positive\n",
      "4.4149 - 4.9278 - -0.5129 : negative\n",
      "5.3872 - 4.8761 - 0.5111 : positive\n",
      "4.3725 - 4.5377 - -0.1653 : negative\n",
      "4.5334 - 4.9870 - -0.4537 : negative\n",
      "5.5359 - 5.3525 - 0.1834 : positive\n",
      "5.8655 - 5.0007 - 0.8648 : positive\n",
      "4.9372 - 6.0555 - -1.1183 : negative\n",
      "5.9017 - 5.1803 - 0.7213 : positive\n",
      "5.0913 - 4.4423 - 0.6490 : positive\n",
      "5.1245 - 4.4527 - 0.6718 : positive\n",
      "5.7230 - 5.1502 - 0.5728 : negative\n",
      "5.2334 - 5.3158 - -0.0823 : positive\n",
      "5.1836 - 5.8175 - -0.6339 : negative\n",
      "6.1446 - 5.4668 - 0.6778 : positive\n",
      "4.7284 - 5.1170 - -0.3885 : negative\n",
      "4.2901 - 4.9373 - -0.6472 : positive\n",
      "6.0404 - 6.2804 - -0.2400 : negative\n",
      "5.5767 - 6.0005 - -0.4238 : negative\n",
      "6.4033 - 6.1963 - 0.2071 : negative\n",
      "5.8443 - 4.9514 - 0.8928 : positive\n",
      "4.7125 - 4.3199 - 0.3927 : positive\n",
      "5.2102 - 4.5202 - 0.6900 : negative\n",
      "4.2329 - 4.2656 - -0.0327 : positive\n",
      "5.1008 - 7.3357 - -2.2349 : negative\n",
      "6.4611 - 4.9118 - 1.5493 : positive\n",
      "5.4033 - 4.7008 - 0.7025 : positive\n",
      "4.2010 - 4.0676 - 0.1333 : negative\n",
      "4.8893 - 4.8292 - 0.0601 : negative\n",
      "6.4324 - 4.6620 - 1.7704 : positive\n",
      "4.5996 - 4.8104 - -0.2108 : positive\n",
      "5.0292 - 5.6871 - -0.6579 : negative\n",
      "5.8848 - 6.1800 - -0.2953 : negative\n",
      "5.4042 - 5.1397 - 0.2645 : negative\n",
      "4.3665 - 5.1578 - -0.7913 : negative\n",
      "5.0043 - 5.2291 - -0.2248 : negative\n",
      "4.9977 - 5.3077 - -0.3100 : negative\n",
      "4.8044 - 4.9833 - -0.1788 : negative\n",
      "3.6346 - 4.6276 - -0.9930 : negative\n",
      "3.5984 - 4.7910 - -1.1926 : negative\n",
      "3.6109 - 4.4192 - -0.8083 : positive\n",
      "4.1419 - 5.0356 - -0.8937 : negative\n",
      "5.3931 - 5.3838 - 0.0093 : positive\n",
      "4.7794 - 5.0952 - -0.3158 : negative\n",
      "5.5601 - 5.5981 - -0.0380 : negative\n",
      "4.4775 - 4.8993 - -0.4217 : negative\n",
      "5.9229 - 5.4316 - 0.4913 : negative\n",
      "4.0361 - 4.5311 - -0.4950 : negative\n",
      "6.1208 - 7.6076 - -1.4868 : negative\n",
      "5.5674 - 6.0237 - -0.4563 : positive\n",
      "5.8120 - 6.0579 - -0.2459 : negative\n",
      "5.5206 - 5.4025 - 0.1181 : positive\n",
      "5.3683 - 5.1746 - 0.1937 : positive\n",
      "5.0282 - 5.3738 - -0.3456 : negative\n",
      "5.4647 - 5.2509 - 0.2138 : positive\n",
      "5.0986 - 4.8460 - 0.2526 : negative\n",
      "4.8797 - 5.1279 - -0.2481 : negative\n",
      "4.3281 - 5.3209 - -0.9927 : negative\n",
      "5.7432 - 5.8671 - -0.1238 : negative\n",
      "4.6231 - 5.1136 - -0.4905 : negative\n",
      "5.7552 - 5.5747 - 0.1805 : positive\n",
      "5.3802 - 5.0324 - 0.3478 : positive\n",
      "5.7011 - 5.8004 - -0.0994 : negative\n",
      "6.4353 - 5.9737 - 0.4615 : positive\n",
      "5.8182 - 5.5721 - 0.2461 : positive\n",
      "5.3947 - 5.4351 - -0.0405 : positive\n",
      "6.2033 - 5.4205 - 0.7828 : positive\n",
      "5.5442 - 6.4196 - -0.8754 : positive\n",
      "4.8073 - 4.5544 - 0.2529 : positive\n",
      "5.1240 - 5.2486 - -0.1246 : negative\n",
      "6.0676 - 6.3158 - -0.2482 : negative\n",
      "5.6068 - 5.5817 - 0.0251 : negative\n",
      "4.7879 - 4.5040 - 0.2838 : negative\n",
      "4.4704 - 4.8355 - -0.3650 : positive\n",
      "4.9122 - 4.7993 - 0.1129 : negative\n",
      "6.2929 - 5.5501 - 0.7428 : positive\n",
      "5.3808 - 5.6290 - -0.2482 : negative\n",
      "5.4073 - 5.6334 - -0.2261 : negative\n",
      "4.7642 - 4.6908 - 0.0733 : positive\n",
      "4.9161 - 5.4163 - -0.5002 : positive\n",
      "5.7978 - 5.4850 - 0.3128 : positive\n",
      "4.6869 - 5.4822 - -0.7953 : negative\n",
      "3.7830 - 4.6503 - -0.8673 : negative\n",
      "5.8708 - 5.3629 - 0.5080 : negative\n",
      "4.7179 - 5.4871 - -0.7693 : negative\n",
      "5.2694 - 5.8000 - -0.5307 : negative\n",
      "4.7393 - 5.0118 - -0.2726 : negative\n",
      "4.7598 - 5.1654 - -0.4056 : negative\n",
      "5.7916 - 4.9185 - 0.8731 : positive\n",
      "5.7055 - 5.1529 - 0.5526 : negative\n",
      "5.6424 - 5.4912 - 0.1512 : positive\n",
      "5.9029 - 5.7400 - 0.1628 : positive\n",
      "4.1180 - 4.3430 - -0.2250 : positive\n",
      "4.9632 - 5.0311 - -0.0679 : negative\n",
      "4.2900 - 5.4885 - -1.1985 : negative\n",
      "4.9212 - 4.3220 - 0.5992 : negative\n",
      "4.9488 - 4.8233 - 0.1255 : negative\n",
      "4.3471 - 4.9896 - -0.6425 : negative\n",
      "6.0399 - 5.4713 - 0.5686 : positive\n",
      "5.0103 - 5.4091 - -0.3988 : negative\n",
      "5.1982 - 5.1995 - -0.0013 : positive\n",
      "4.5629 - 5.4755 - -0.9125 : negative\n",
      "6.2241 - 5.9511 - 0.2730 : positive\n",
      "4.5998 - 5.4851 - -0.8853 : negative\n",
      "5.1570 - 5.2694 - -0.1123 : negative\n",
      "4.6153 - 5.7748 - -1.1595 : negative\n",
      "4.6450 - 6.1752 - -1.5302 : negative\n",
      "4.2861 - 4.4008 - -0.1147 : positive\n",
      "4.4203 - 5.1656 - -0.7453 : negative\n",
      "5.3597 - 5.1866 - 0.1730 : positive\n",
      "5.1323 - 5.0974 - 0.0350 : positive\n",
      "4.9267 - 5.0294 - -0.1027 : negative\n",
      "5.3934 - 5.2855 - 0.1080 : positive\n",
      "4.2519 - 5.0979 - -0.8460 : positive\n",
      "5.1361 - 5.5290 - -0.3929 : negative\n",
      "4.9484 - 4.6802 - 0.2682 : negative\n",
      "5.7642 - 6.3281 - -0.5639 : negative\n",
      "5.1386 - 5.4448 - -0.3062 : negative\n",
      "4.7572 - 4.9502 - -0.1930 : negative\n",
      "5.1456 - 5.2524 - -0.1068 : positive\n",
      "4.0154 - 5.5809 - -1.5655 : negative\n",
      "5.1648 - 5.8821 - -0.7172 : negative\n",
      "5.2401 - 5.7109 - -0.4709 : negative\n",
      "5.4055 - 5.1445 - 0.2610 : positive\n",
      "6.4211 - 5.8438 - 0.5774 : positive\n",
      "5.4291 - 5.1735 - 0.2556 : positive\n",
      "5.6217 - 6.3032 - -0.6815 : negative\n",
      "5.3384 - 5.4433 - -0.1049 : negative\n",
      "5.3309 - 5.4376 - -0.1067 : positive\n",
      "5.2738 - 5.6567 - -0.3830 : negative\n",
      "5.4731 - 4.5553 - 0.9178 : positive\n",
      "5.4370 - 4.9520 - 0.4850 : positive\n",
      "3.4943 - 3.8916 - -0.3972 : negative\n",
      "5.2083 - 5.8013 - -0.5929 : positive\n",
      "4.9330 - 4.6013 - 0.3317 : negative\n",
      "5.7163 - 4.9799 - 0.7364 : positive\n",
      "5.2024 - 5.2982 - -0.0959 : negative\n",
      "5.9791 - 6.3014 - -0.3223 : negative\n",
      "3.6101 - 4.5312 - -0.9211 : negative\n",
      "5.0455 - 4.6878 - 0.3577 : positive\n",
      "7.1962 - 6.1693 - 1.0269 : negative\n",
      "4.7480 - 5.3429 - -0.5949 : negative\n",
      "5.8184 - 5.9363 - -0.1179 : negative\n",
      "4.7988 - 5.2915 - -0.4927 : negative\n",
      "5.2056 - 5.1137 - 0.0919 : negative\n",
      "4.0834 - 5.1027 - -1.0193 : negative\n",
      "4.5957 - 5.1264 - -0.5307 : negative\n",
      "5.1706 - 5.0143 - 0.1563 : positive\n",
      "6.2893 - 4.9141 - 1.3752 : positive\n",
      "4.5528 - 5.3978 - -0.8450 : negative\n",
      "5.1765 - 5.6790 - -0.5026 : negative\n",
      "5.9061 - 5.7190 - 0.1871 : negative\n",
      "4.4340 - 5.0755 - -0.6415 : negative\n",
      "4.7248 - 4.5875 - 0.1374 : positive\n",
      "5.3653 - 5.2977 - 0.0675 : positive\n",
      "5.1798 - 5.1989 - -0.0191 : positive\n",
      "5.3182 - 5.3680 - -0.0498 : negative\n",
      "3.6374 - 4.4015 - -0.7641 : positive\n",
      "5.4281 - 6.0933 - -0.6653 : negative\n",
      "5.6994 - 5.4101 - 0.2892 : negative\n",
      "4.3799 - 4.7434 - -0.3635 : negative\n",
      "5.1348 - 5.0536 - 0.0812 : negative\n",
      "5.8007 - 6.4203 - -0.6197 : negative\n",
      "5.0435 - 5.1152 - -0.0717 : positive\n",
      "5.0282 - 6.2193 - -1.1910 : negative\n",
      "5.3183 - 6.2653 - -0.9470 : negative\n",
      "5.3345 - 5.2826 - 0.0518 : positive\n",
      "5.2259 - 5.1759 - 0.0500 : positive\n",
      "5.1794 - 5.2299 - -0.0505 : negative\n",
      "5.6294 - 5.4301 - 0.1992 : negative\n",
      "5.9437 - 5.5843 - 0.3594 : negative\n",
      "5.7778 - 6.1188 - -0.3410 : negative\n",
      "5.9547 - 5.5795 - 0.3752 : positive\n",
      "4.5429 - 4.8273 - -0.2844 : positive\n",
      "4.6942 - 5.3368 - -0.6426 : negative\n",
      "4.8802 - 5.2807 - -0.4005 : negative\n",
      "5.8521 - 5.3503 - 0.5018 : negative\n",
      "6.1343 - 5.2830 - 0.8513 : positive\n",
      "6.1058 - 5.2062 - 0.8996 : positive\n",
      "5.5876 - 5.2892 - 0.2984 : positive\n",
      "5.5337 - 6.2259 - -0.6921 : negative\n",
      "5.7647 - 5.8460 - -0.0813 : negative\n",
      "4.4225 - 4.8573 - -0.4348 : positive\n",
      "5.4830 - 5.1133 - 0.3697 : negative\n",
      "4.8168 - 5.0088 - -0.1920 : negative\n",
      "5.0249 - 5.2179 - -0.1930 : negative\n",
      "5.7871 - 5.4981 - 0.2890 : positive\n",
      "5.1441 - 5.1762 - -0.0321 : positive\n",
      "5.4125 - 5.1248 - 0.2877 : negative\n",
      "6.1257 - 5.2376 - 0.8881 : positive\n",
      "4.5741 - 5.5654 - -0.9913 : negative\n",
      "5.4698 - 3.7947 - 1.6751 : positive\n",
      "5.5928 - 5.2728 - 0.3199 : positive\n",
      "5.6226 - 4.9885 - 0.6342 : negative\n",
      "5.3938 - 5.3170 - 0.0769 : negative\n",
      "4.5240 - 4.6154 - -0.0915 : negative\n",
      "5.5729 - 5.4889 - 0.0840 : negative\n",
      "6.0451 - 6.1057 - -0.0606 : negative\n",
      "4.6699 - 5.3789 - -0.7090 : positive\n",
      "5.3621 - 4.8304 - 0.5317 : positive\n",
      "5.8646 - 5.5504 - 0.3142 : negative\n",
      "6.4758 - 5.9567 - 0.5191 : positive\n",
      "4.3059 - 5.1237 - -0.8178 : positive\n",
      "6.3354 - 5.9765 - 0.3589 : negative\n",
      "5.8004 - 6.1398 - -0.3394 : negative\n",
      "5.3644 - 5.3710 - -0.0067 : negative\n",
      "3.9894 - 4.2634 - -0.2740 : negative\n",
      "6.3035 - 5.1138 - 1.1897 : positive\n",
      "4.9693 - 4.8278 - 0.1415 : positive\n",
      "5.7287 - 6.6436 - -0.9148 : negative\n",
      "4.3771 - 4.9262 - -0.5491 : negative\n",
      "5.1245 - 4.8175 - 0.3070 : positive\n",
      "4.9346 - 5.0767 - -0.1421 : positive\n",
      "5.5519 - 4.8195 - 0.7324 : positive\n",
      "5.9301 - 5.4580 - 0.4721 : positive\n",
      "3.8383 - 4.3151 - -0.4768 : positive\n",
      "4.9193 - 5.4635 - -0.5442 : negative\n",
      "3.9283 - 4.3715 - -0.4432 : positive\n",
      "5.2334 - 6.0151 - -0.7817 : positive\n",
      "5.7526 - 5.0452 - 0.7075 : positive\n",
      "3.8483 - 5.0302 - -1.1818 : positive\n",
      "5.2500 - 5.7620 - -0.5120 : negative\n",
      "5.8486 - 5.5765 - 0.2721 : positive\n",
      "4.6976 - 5.1219 - -0.4242 : negative\n",
      "5.4350 - 5.6784 - -0.2434 : negative\n",
      "6.1763 - 5.1950 - 0.9813 : positive\n",
      "5.4549 - 5.0949 - 0.3600 : positive\n",
      "5.0229 - 5.4291 - -0.4063 : positive\n",
      "6.7202 - 5.9586 - 0.7616 : negative\n",
      "5.9089 - 5.0060 - 0.9030 : positive\n",
      "4.6617 - 4.9216 - -0.2598 : negative\n",
      "5.3209 - 5.6849 - -0.3640 : negative\n",
      "6.2807 - 5.4819 - 0.7988 : positive\n",
      "4.1190 - 5.2981 - -1.1790 : negative\n",
      "4.1037 - 4.4367 - -0.3330 : positive\n",
      "6.0841 - 5.9586 - 0.1254 : negative\n",
      "5.4965 - 5.3192 - 0.1773 : negative\n",
      "4.8043 - 5.0868 - -0.2824 : positive\n",
      "4.4915 - 4.4324 - 0.0592 : negative\n",
      "5.1823 - 4.9582 - 0.2241 : negative\n",
      "5.8645 - 5.7299 - 0.1347 : negative\n",
      "5.9972 - 5.5046 - 0.4926 : positive\n",
      "5.7835 - 5.5456 - 0.2378 : positive\n",
      "5.4872 - 5.2906 - 0.1966 : negative\n",
      "5.7094 - 5.3396 - 0.3698 : negative\n",
      "6.2866 - 6.9392 - -0.6526 : negative\n",
      "4.9735 - 5.1863 - -0.2128 : negative\n",
      "4.9656 - 4.7788 - 0.1869 : negative\n",
      "4.9487 - 5.1669 - -0.2182 : negative\n",
      "5.4590 - 6.5156 - -1.0566 : negative\n",
      "5.1575 - 5.1623 - -0.0048 : positive\n",
      "5.6312 - 5.8884 - -0.2571 : negative\n",
      "5.3299 - 5.2572 - 0.0727 : negative\n",
      "4.8379 - 4.9840 - -0.1461 : negative\n",
      "5.4927 - 6.3511 - -0.8584 : negative\n",
      "4.4952 - 5.3120 - -0.8168 : negative\n",
      "5.1617 - 4.6750 - 0.4868 : negative\n",
      "5.9197 - 5.6862 - 0.2335 : positive\n",
      "6.2062 - 5.8261 - 0.3801 : positive\n",
      "6.8868 - 6.0110 - 0.8758 : negative\n",
      "5.4608 - 5.2744 - 0.1865 : positive\n",
      "5.5249 - 5.3654 - 0.1594 : negative\n",
      "5.6436 - 5.3064 - 0.3372 : negative\n",
      "6.3607 - 6.5351 - -0.1744 : positive\n",
      "5.5067 - 4.3987 - 1.1080 : positive\n",
      "4.9662 - 5.3623 - -0.3961 : negative\n",
      "3.9697 - 4.6620 - -0.6923 : negative\n",
      "6.4536 - 5.3981 - 1.0555 : positive\n",
      "5.6348 - 4.8489 - 0.7859 : negative\n",
      "6.5225 - 5.9146 - 0.6079 : positive\n",
      "5.5291 - 5.9511 - -0.4220 : positive\n",
      "4.9852 - 4.6700 - 0.3152 : positive\n",
      "6.2300 - 5.6345 - 0.5955 : negative\n",
      "5.6889 - 5.7090 - -0.0201 : negative\n",
      "5.3692 - 5.2189 - 0.1502 : negative\n",
      "5.8596 - 5.8543 - 0.0053 : negative\n",
      "3.7192 - 4.4004 - -0.6812 : negative\n",
      "5.4725 - 6.3895 - -0.9170 : negative\n",
      "4.5242 - 4.8801 - -0.3559 : positive\n",
      "4.9907 - 5.2768 - -0.2860 : negative\n",
      "6.5201 - 5.6886 - 0.8315 : positive\n",
      "5.6635 - 5.7515 - -0.0880 : negative\n",
      "5.2347 - 5.7886 - -0.5539 : negative\n",
      "5.3632 - 5.2722 - 0.0910 : negative\n",
      "4.6015 - 4.9740 - -0.3725 : positive\n",
      "6.6814 - 5.2084 - 1.4730 : negative\n",
      "5.6275 - 5.7875 - -0.1600 : negative\n",
      "5.6354 - 5.4867 - 0.1488 : positive\n",
      "4.9390 - 5.8417 - -0.9026 : negative\n",
      "5.6734 - 6.3712 - -0.6978 : negative\n",
      "4.6762 - 5.0826 - -0.4064 : negative\n",
      "6.1025 - 4.8574 - 1.2451 : positive\n",
      "5.2955 - 5.1981 - 0.0973 : negative\n",
      "6.7192 - 5.9533 - 0.7659 : positive\n",
      "5.9389 - 5.4451 - 0.4938 : positive\n",
      "6.3961 - 5.6319 - 0.7642 : positive\n",
      "6.1568 - 6.0189 - 0.1379 : positive\n",
      "5.4132 - 5.7718 - -0.3585 : positive\n",
      "6.6346 - 6.4410 - 0.1936 : negative\n",
      "6.0264 - 5.6519 - 0.3745 : negative\n",
      "4.8933 - 4.9578 - -0.0645 : positive\n",
      "5.5292 - 6.0086 - -0.4794 : negative\n",
      "4.1981 - 5.0078 - -0.8096 : negative\n",
      "4.4029 - 4.4041 - -0.0012 : negative\n",
      "4.7778 - 4.7715 - 0.0063 : positive\n",
      "5.5109 - 4.7893 - 0.7216 : positive\n",
      "5.3681 - 5.5153 - -0.1473 : negative\n",
      "5.2238 - 5.2856 - -0.0618 : negative\n",
      "6.1089 - 5.9491 - 0.1598 : negative\n",
      "5.2218 - 5.3755 - -0.1536 : negative\n",
      "4.7498 - 5.2363 - -0.4865 : negative\n",
      "4.8854 - 5.2094 - -0.3240 : negative\n",
      "5.4670 - 5.7494 - -0.2824 : negative\n",
      "4.6548 - 4.9884 - -0.3336 : negative\n",
      "5.2702 - 5.6546 - -0.3844 : negative\n",
      "5.4923 - 5.3160 - 0.1763 : positive\n",
      "5.7169 - 5.7417 - -0.0248 : negative\n",
      "4.9967 - 5.3863 - -0.3896 : negative\n",
      "5.6377 - 5.3132 - 0.3245 : negative\n",
      "5.9211 - 6.0998 - -0.1787 : negative\n",
      "5.8843 - 5.2169 - 0.6674 : positive\n",
      "5.1221 - 4.9459 - 0.1763 : positive\n",
      "5.0758 - 4.8286 - 0.2472 : positive\n",
      "4.9906 - 5.4143 - -0.4237 : negative\n",
      "4.5509 - 4.4319 - 0.1190 : positive\n",
      "4.8626 - 4.8483 - 0.0143 : positive\n",
      "5.0881 - 5.1105 - -0.0224 : positive\n",
      "6.0499 - 4.7141 - 1.3358 : positive\n",
      "5.6624 - 4.7983 - 0.8641 : positive\n",
      "5.8096 - 6.4026 - -0.5930 : negative\n",
      "5.4891 - 4.8934 - 0.5957 : positive\n",
      "6.1125 - 6.6345 - -0.5220 : negative\n",
      "5.9344 - 4.9170 - 1.0174 : positive\n",
      "5.5781 - 5.6910 - -0.1129 : negative\n",
      "6.1322 - 4.9192 - 1.2130 : positive\n",
      "5.0598 - 4.6274 - 0.4324 : positive\n",
      "5.6846 - 5.2644 - 0.4202 : positive\n",
      "5.4822 - 5.2314 - 0.2509 : negative\n",
      "5.5977 - 5.3473 - 0.2505 : positive\n",
      "4.9882 - 5.1630 - -0.1748 : negative\n",
      "5.5975 - 5.9061 - -0.3085 : negative\n",
      "5.1471 - 5.6967 - -0.5496 : negative\n",
      "5.6963 - 5.5549 - 0.1414 : negative\n",
      "5.5306 - 5.1043 - 0.4263 : positive\n",
      "5.3487 - 4.9127 - 0.4360 : positive\n",
      "5.7349 - 5.4827 - 0.2522 : negative\n",
      "5.0609 - 4.9209 - 0.1400 : positive\n",
      "6.1323 - 6.2860 - -0.1537 : negative\n",
      "4.5789 - 5.0669 - -0.4880 : negative\n",
      "4.7244 - 4.6082 - 0.1162 : positive\n",
      "5.2761 - 4.9328 - 0.3433 : positive\n",
      "4.6908 - 4.4492 - 0.2416 : negative\n",
      "6.1449 - 5.3167 - 0.8282 : positive\n",
      "4.6812 - 5.1645 - -0.4832 : negative\n",
      "6.2985 - 5.4127 - 0.8858 : positive\n",
      "5.5817 - 4.7381 - 0.8435 : positive\n",
      "5.8756 - 5.2281 - 0.6474 : negative\n",
      "7.3018 - 6.2575 - 1.0443 : positive\n",
      "4.6251 - 5.3015 - -0.6765 : negative\n",
      "5.7453 - 5.7582 - -0.0130 : negative\n",
      "6.6797 - 6.4483 - 0.2314 : negative\n",
      "5.0286 - 4.8309 - 0.1977 : negative\n",
      "5.8886 - 4.9123 - 0.9763 : positive\n",
      "5.6444 - 5.0254 - 0.6191 : positive\n",
      "5.8904 - 5.5471 - 0.3433 : positive\n",
      "5.9078 - 5.6836 - 0.2242 : negative\n",
      "5.8398 - 5.4329 - 0.4069 : positive\n",
      "4.7921 - 4.5033 - 0.2888 : positive\n",
      "4.1784 - 5.0649 - -0.8865 : negative\n",
      "5.1492 - 4.6857 - 0.4634 : positive\n",
      "5.7890 - 6.2384 - -0.4494 : negative\n",
      "5.3640 - 5.4688 - -0.1048 : negative\n",
      "5.6890 - 5.2603 - 0.4287 : negative\n",
      "4.5611 - 5.4707 - -0.9096 : negative\n",
      "5.9297 - 5.9391 - -0.0094 : negative\n",
      "4.9132 - 5.6664 - -0.7531 : negative\n",
      "5.2124 - 5.5617 - -0.3492 : negative\n",
      "4.5021 - 5.2224 - -0.7203 : positive\n",
      "5.8636 - 5.2823 - 0.5813 : negative\n",
      "4.5387 - 5.2176 - -0.6789 : negative\n",
      "4.2002 - 4.5339 - -0.3337 : positive\n",
      "4.2433 - 4.6211 - -0.3778 : positive\n",
      "5.0871 - 5.2693 - -0.1822 : negative\n",
      "6.1663 - 5.3396 - 0.8267 : positive\n",
      "5.0359 - 6.4642 - -1.4283 : negative\n",
      "6.2523 - 6.9442 - -0.6919 : negative\n",
      "5.8782 - 5.9515 - -0.0732 : positive\n"
     ]
    }
   ],
   "source": [
    "\n",
    "for i in range(size_demo):\n",
    "    word_vector  = sentence_to_vector(X_demo[i].split(), model, f = leaky_ReLU_prob)\n",
    "    #print(df['review'][i])\n",
    "    #print(word_vector)\n",
    "    cosPos = cosine_similarity(word_vector, positive_vector)\n",
    "    cosNeg = cosine_similarity(word_vector, negative_vector)\n",
    "    #{cosPos:.4f} - {cosNeg:.4f} -\n",
    "    #values.append( (cosPos - cosNeg)*10 )\n",
    "    values_pos.append(cosPos*10)\n",
    "    values_neg.append(cosNeg*10)\n",
    "    print(f\"{cosPos*10:.4f} - {cosNeg*10:.4f} - {(cosPos-cosNeg)*10:.4f}\", end = \" : \")\n",
    "    # print(cosNeg, end = \" - \")\n",
    "    # print((cosPos-cosNeg)*10, end = \" : \")\n",
    "    print(y_demo[i])"
   ]
  },
  {
   "cell_type": "code",
   "execution_count": 48,
   "metadata": {},
   "outputs": [
    {
     "name": "stderr",
     "output_type": "stream",
     "text": [
      "No artists with labels found to put in legend.  Note that artists whose label start with an underscore are ignored when legend() is called with no argument.\n"
     ]
    },
    {
     "data": {
      "image/png": "[encoded data removed]",
      "text/plain": [
       "<Figure size 1000x600 with 1 Axes>"
      ]
     },
     "metadata": {},
     "output_type": "display_data"
    }
   ],
   "source": [
    "# Tạo biểu đồ\n",
    "import matplotlib.pyplot as plt\n",
    "\n",
    "plt.figure(figsize=(10, 6))\n",
    "\n",
    "# Chia dữ liệu thành hai nhóm: positive và negative\n",
    "# positive_values = [values[i] for i in range(500) if df['sentiment'][i] == 'positive']\n",
    "# positive_indices = [i for i in range(500) if df['sentiment'][i]  == 'positive']\n",
    "\n",
    "# negative_values = [values[i] for i in range(len(values)) if df['sentiment'][i] == 'negative']\n",
    "# negative_indices = [i for i in range(len(values)) if df['sentiment'][i] == 'negative']\n",
    "\n",
    "x_values = [values_pos[i] for i in range(500)]\n",
    "y_values = [values_neg[i] for i in range(500)]\n",
    "\n",
    "\n",
    "# Vẽ biểu đồ với các nhóm khác nhau\n",
    "# plt.scatter(positive_indices, positive_values, color='blue', label='Positive')\n",
    "# plt.scatter(negative_indices, negative_values, color='red', label='Negative')\n",
    "colors = ['blue' if sentiment == 'positive' else 'red' for sentiment in df['sentiment'][:500]]\n",
    "# labels = [ sentiment for sentiment in df['sentiment'][:500]]\n",
    "plt.scatter(x_values, y_values, color = colors)\n",
    "\n",
    "\n",
    "# Thiết lập các thông số biểu đồ\n",
    "plt.xlabel('Index')\n",
    "plt.ylabel('Value')\n",
    "plt.title('Scatter Plot of Values with Positive and Negative Labels')\n",
    "plt.legend()\n",
    "plt.grid(True)\n",
    "\n",
    "# Hiển thị biểu đồ\n",
    "plt.show()"
   ]
  },
  {
   "cell_type": "markdown",
   "metadata": {},
   "source": [
    "#### Tạo tập train và test cho model"
   ]
  },
  {
   "cell_type": "code",
   "execution_count": 49,
   "metadata": {},
   "outputs": [],
   "source": [
    "X_w2v_train = [ sentence_to_vector(sent.split(), model, leaky_ReLU_prob)  for sent in X_train]\n",
    "X_w2v_test =  [ sentence_to_vector(sent.split(), model, leaky_ReLU_prob)  for sent in X_test]"
   ]
  },
  {
   "cell_type": "code",
   "execution_count": 186,
   "metadata": {},
   "outputs": [],
   "source": [
    "X_train_removed = X_train.apply(remove_stop_words)\n",
    "X_test_removed = X_test.apply(remove_stop_words)\n",
    "X_w2v_train_removed = [ sentence_to_vector(sent.split(), model)  for sent in X_train_removed]\n",
    "X_w2v_test_removed =  [ sentence_to_vector(sent.split(), model)  for sent in X_test_removed]"
   ]
  },
  {
   "cell_type": "markdown",
   "metadata": {},
   "source": [
    "### Tf-idf"
   ]
  },
  {
   "cell_type": "code",
   "execution_count": null,
   "metadata": {},
   "outputs": [],
   "source": [
    "# Chuyển đổi văn bản thành các đặc trưng số sử dụng TfidfVectorizer\n",
    "from sklearn.feature_extraction.text import TfidfVectorizer\n",
    "vectorizer = TfidfVectorizer()\n",
    "X_train_tfidf = vectorizer.fit_transform(X_train)\n",
    "X_test_tfidf = vectorizer.transform(X_test)"
   ]
  },
  {
   "cell_type": "markdown",
   "metadata": {},
   "source": [
    "## Mô hình"
   ]
  },
  {
   "cell_type": "markdown",
   "metadata": {},
   "source": [
    "### Hàm khảo sát"
   ]
  },
  {
   "cell_type": "code",
   "execution_count": 50,
   "metadata": {},
   "outputs": [],
   "source": [
    "from sklearn.metrics import accuracy_score, classification_report\n",
    "def train_and_valid(model, X_train, y_train, X_test, y_test):\n",
    "    model.fit(X_train,y_train)\n",
    "    y_pred_train = model.predict(X_train) \n",
    "    y_pred = model.predict(X_test)\n",
    "    # Đánh giá mô hình\n",
    "    accuracy_train = accuracy_score(y_train, y_pred_train)\n",
    "    accuracy_test = accuracy_score(y_test, y_pred)\n",
    "    print(f\"training accuracy: {accuracy_train} \\nvalidation accuracy: {accuracy_test}\")\n",
    "    "
   ]
  },
  {
   "cell_type": "markdown",
   "metadata": {},
   "source": [
    "### Decision tree"
   ]
  },
  {
   "cell_type": "code",
   "execution_count": 187,
   "metadata": {},
   "outputs": [],
   "source": [
    "# Huấn luyện mô hình Decision Tree\n",
    "from sklearn.tree import DecisionTreeClassifier\n",
    "clf = DecisionTreeClassifier(\n",
    "    random_state=42, \n",
    "    max_depth= 16\n",
    ")\n"
   ]
  },
  {
   "cell_type": "code",
   "execution_count": 54,
   "metadata": {},
   "outputs": [
    {
     "name": "stdout",
     "output_type": "stream",
     "text": [
      "training accuracy: 0.9816285714285714 \n",
      "validation accuracy: 0.7249333333333333\n"
     ]
    }
   ],
   "source": [
    "train_and_valid(clf, X_w2v_train, y_train, X_w2v_test, y_test)"
   ]
  },
  {
   "cell_type": "code",
   "execution_count": 188,
   "metadata": {},
   "outputs": [
    {
     "name": "stdout",
     "output_type": "stream",
     "text": [
      "training accuracy: 0.9819428571428571 \n",
      "validation accuracy: 0.7412666666666666\n"
     ]
    }
   ],
   "source": [
    "train_and_valid(clf, X_w2v_train_removed, y_train, X_w2v_test_removed, y_test)"
   ]
  },
  {
   "cell_type": "markdown",
   "metadata": {},
   "source": [
    "#### Bảng tổng kết Decision tree\n",
    "| Mô hình | Tham số | Độ chính xác trên tập train | Độ chính xác | Đánh giá | \n",
    "|---------|----------|------|--------|----|\n",
    "|Decision tree | default | -- | 0.7217 | --|\n",
    "|Decision tree | criterion = entropy_loss | --  | 0.7202| --|\n",
    "|Decision tree | criterion = log_loss | 1 | 0.7202 | Overfitting |\n",
    "|Decision tree | criterion = log_loss, max_depth = 50 | 0.98 | 0.7228 | Overfitting |\n",
    "|Decision tree | criterion = log_loss, max_depth = 25 | 0.89 | 0.73 | Bad |\n",
    "|Decision tree | criterion = log_loss, max_depth = 37,  | 0.95 | 0.7259 | Overfitting |\n",
    "|Decision tree | criterion = gini, max_depth = 37, max features = 50k | 0.95 | 0.7314 | Overfitting |\n",
    "|Decision tree | criterion = gini, max_depth = 37, max leaf node = 2000 | 0.95 | 0.7337 | Overfitting |\n",
    "|Decision tree | criterion = gini, max_depth = 15, max leaf node = 100 | 0.76 | 0.7467 | Bad |\n",
    "|Decision tree | criterion = gini, max_depth = 15, max leaf node = 100 | 0.78 | 0.7418 | Bad |"
   ]
  },
  {
   "cell_type": "markdown",
   "metadata": {},
   "source": [
    "### Logistic regression\n"
   ]
  },
  {
   "cell_type": "code",
   "execution_count": 191,
   "metadata": {},
   "outputs": [],
   "source": [
    "from sklearn.linear_model import LogisticRegression\n",
    "\n",
    "# Huấn luyện mô hình Logistic Regression\n",
    "log_regr = LogisticRegression(\n",
    "    random_state=42,\n",
    "    max_iter= 500\n",
    ")\n"
   ]
  },
  {
   "cell_type": "code",
   "execution_count": 60,
   "metadata": {},
   "outputs": [
    {
     "name": "stdout",
     "output_type": "stream",
     "text": [
      "training accuracy: 0.8504857142857143 \n",
      "validation accuracy: 0.8502666666666666\n"
     ]
    }
   ],
   "source": [
    "train_and_valid(log_regr,X_w2v_train, y_train, X_w2v_test, y_test)"
   ]
  },
  {
   "cell_type": "code",
   "execution_count": 192,
   "metadata": {},
   "outputs": [
    {
     "name": "stdout",
     "output_type": "stream",
     "text": [
      "training accuracy: 0.8612571428571428 \n",
      "validation accuracy: 0.8609333333333333\n"
     ]
    }
   ],
   "source": [
    "train_and_valid(log_regr,X_w2v_train_removed, y_train, X_w2v_test_removed, y_test)"
   ]
  },
  {
   "cell_type": "markdown",
   "metadata": {},
   "source": [
    "### Random forest"
   ]
  },
  {
   "cell_type": "code",
   "execution_count": 193,
   "metadata": {},
   "outputs": [],
   "source": [
    "# Import các thư viện cần thiết\n",
    "from sklearn.ensemble import RandomForestClassifier\n",
    "\n",
    "# Huấn luyện mô hình Random Forest\n",
    "rf_clf = RandomForestClassifier(\n",
    "    random_state=42,\n",
    ")"
   ]
  },
  {
   "cell_type": "code",
   "execution_count": 62,
   "metadata": {},
   "outputs": [
    {
     "name": "stdout",
     "output_type": "stream",
     "text": [
      "training accuracy: 0.9999714285714286 \n",
      "validation accuracy: 0.8192\n"
     ]
    }
   ],
   "source": [
    "train_and_valid(rf_clf, X_w2v_train, y_train, X_w2v_test, y_test)"
   ]
  },
  {
   "cell_type": "code",
   "execution_count": 194,
   "metadata": {},
   "outputs": [
    {
     "name": "stdout",
     "output_type": "stream",
     "text": [
      "training accuracy: 1.0 \n",
      "validation accuracy: 0.8286666666666667\n"
     ]
    }
   ],
   "source": [
    "train_and_valid(rf_clf, X_w2v_train_removed, y_train, X_w2v_test_removed, y_test)"
   ]
  },
  {
   "cell_type": "markdown",
   "metadata": {},
   "source": [
    "depth = 15 --> 0.8285 \\\n",
    "depth = 37 --> 0.84"
   ]
  },
  {
   "cell_type": "markdown",
   "metadata": {},
   "source": [
    "### SVM"
   ]
  },
  {
   "cell_type": "code",
   "execution_count": null,
   "metadata": {},
   "outputs": [],
   "source": [
    "# from sklearn.svm import SVC"
   ]
  },
  {
   "cell_type": "code",
   "execution_count": null,
   "metadata": {},
   "outputs": [],
   "source": [
    "# svm_classifier = SVC(\n",
    "#     random_state=42,\n",
    "#     kernel = 'poly',\n",
    "# )"
   ]
  },
  {
   "cell_type": "code",
   "execution_count": null,
   "metadata": {},
   "outputs": [
    {
     "data": {
      "text/html": [
       "<style>#sk-container-id-6 {color: black;}#sk-container-id-6 pre{padding: 0;}#sk-container-id-6 div.sk-toggleable {background-color: white;}#sk-container-id-6 label.sk-toggleable__label {cursor: pointer;display: block;width: 100%;margin-bottom: 0;padding: 0.3em;box-sizing: border-box;text-align: center;}#sk-container-id-6 label.sk-toggleable__label-arrow:before {content: \"▸\";float: left;margin-right: 0.25em;color: #696969;}#sk-container-id-6 label.sk-toggleable__label-arrow:hover:before {color: black;}#sk-container-id-6 div.sk-estimator:hover label.sk-toggleable__label-arrow:before {color: black;}#sk-container-id-6 div.sk-toggleable__content {max-height: 0;max-width: 0;overflow: hidden;text-align: left;background-color: #f0f8ff;}#sk-container-id-6 div.sk-toggleable__content pre {margin: 0.2em;color: black;border-radius: 0.25em;background-color: #f0f8ff;}#sk-container-id-6 input.sk-toggleable__control:checked~div.sk-toggleable__content {max-height: 200px;max-width: 100%;overflow: auto;}#sk-container-id-6 input.sk-toggleable__control:checked~label.sk-toggleable__label-arrow:before {content: \"▾\";}#sk-container-id-6 div.sk-estimator input.sk-toggleable__control:checked~label.sk-toggleable__label {background-color: #d4ebff;}#sk-container-id-6 div.sk-label input.sk-toggleable__control:checked~label.sk-toggleable__label {background-color: #d4ebff;}#sk-container-id-6 input.sk-hidden--visually {border: 0;clip: rect(1px 1px 1px 1px);clip: rect(1px, 1px, 1px, 1px);height: 1px;margin: -1px;overflow: hidden;padding: 0;position: absolute;width: 1px;}#sk-container-id-6 div.sk-estimator {font-family: monospace;background-color: #f0f8ff;border: 1px dotted black;border-radius: 0.25em;box-sizing: border-box;margin-bottom: 0.5em;}#sk-container-id-6 div.sk-estimator:hover {background-color: #d4ebff;}#sk-container-id-6 div.sk-parallel-item::after {content: \"\";width: 100%;border-bottom: 1px solid gray;flex-grow: 1;}#sk-container-id-6 div.sk-label:hover label.sk-toggleable__label {background-color: #d4ebff;}#sk-container-id-6 div.sk-serial::before {content: \"\";position: absolute;border-left: 1px solid gray;box-sizing: border-box;top: 0;bottom: 0;left: 50%;z-index: 0;}#sk-container-id-6 div.sk-serial {display: flex;flex-direction: column;align-items: center;background-color: white;padding-right: 0.2em;padding-left: 0.2em;position: relative;}#sk-container-id-6 div.sk-item {position: relative;z-index: 1;}#sk-container-id-6 div.sk-parallel {display: flex;align-items: stretch;justify-content: center;background-color: white;position: relative;}#sk-container-id-6 div.sk-item::before, #sk-container-id-6 div.sk-parallel-item::before {content: \"\";position: absolute;border-left: 1px solid gray;box-sizing: border-box;top: 0;bottom: 0;left: 50%;z-index: -1;}#sk-container-id-6 div.sk-parallel-item {display: flex;flex-direction: column;z-index: 1;position: relative;background-color: white;}#sk-container-id-6 div.sk-parallel-item:first-child::after {align-self: flex-end;width: 50%;}#sk-container-id-6 div.sk-parallel-item:last-child::after {align-self: flex-start;width: 50%;}#sk-container-id-6 div.sk-parallel-item:only-child::after {width: 0;}#sk-container-id-6 div.sk-dashed-wrapped {border: 1px dashed gray;margin: 0 0.4em 0.5em 0.4em;box-sizing: border-box;padding-bottom: 0.4em;background-color: white;}#sk-container-id-6 div.sk-label label {font-family: monospace;font-weight: bold;display: inline-block;line-height: 1.2em;}#sk-container-id-6 div.sk-label-container {text-align: center;}#sk-container-id-6 div.sk-container {/* jupyter's `normalize.less` sets `[hidden] { display: none; }` but bootstrap.min.css set `[hidden] { display: none !important; }` so we also need the `!important` here to be able to override the default hidden behavior on the sphinx rendered scikit-learn.org. See: https://github.com/scikit-learn/scikit-learn/issues/21755 */display: inline-block !important;position: relative;}#sk-container-id-6 div.sk-text-repr-fallback {display: none;}</style><div id=\"sk-container-id-6\" class=\"sk-top-container\"><div class=\"sk-text-repr-fallback\"><pre>SVC(kernel=&#x27;sigmoid&#x27;, random_state=42)</pre><b>In a Jupyter environment, please rerun this cell to show the HTML representation or trust the notebook. <br />On GitHub, the HTML representation is unable to render, please try loading this page with nbviewer.org.</b></div><div class=\"sk-container\" hidden><div class=\"sk-item\"><div class=\"sk-estimator sk-toggleable\"><input class=\"sk-toggleable__control sk-hidden--visually\" id=\"sk-estimator-id-6\" type=\"checkbox\" checked><label for=\"sk-estimator-id-6\" class=\"sk-toggleable__label sk-toggleable__label-arrow\">SVC</label><div class=\"sk-toggleable__content\"><pre>SVC(kernel=&#x27;sigmoid&#x27;, random_state=42)</pre></div></div></div></div></div>"
      ],
      "text/plain": [
       "SVC(kernel='sigmoid', random_state=42)"
      ]
     },
     "execution_count": 65,
     "metadata": {},
     "output_type": "execute_result"
    }
   ],
   "source": [
    "# svm_classifier.fit(X_train,y_train)"
   ]
  },
  {
   "cell_type": "markdown",
   "metadata": {},
   "source": [
    "### XGBoost"
   ]
  },
  {
   "cell_type": "code",
   "execution_count": 195,
   "metadata": {},
   "outputs": [
    {
     "name": "stdout",
     "output_type": "stream",
     "text": [
      "training accuracy: 0.9764857142857143 \n",
      "validation accuracy: 0.8385333333333334\n"
     ]
    }
   ],
   "source": [
    "import xgboost as xgb\n",
    "\n",
    "# Tạo mô hình XGBoost\n",
    "xgb = xgb.XGBClassifier()\n",
    "\n",
    "# Huấn luyện mô hình\n",
    "y_train_new = np.where(y_train == 'negative', 0 , 1)\n",
    "y_test_new = np.where(y_test == 'negative', 0, 1)\n",
    "\n",
    "# Dự đoán trên tập kiểm tra\n",
    "train_and_valid(xgb, X_w2v_train_removed, y_train_new, X_w2v_test_removed, y_test_new)"
   ]
  },
  {
   "cell_type": "markdown",
   "metadata": {},
   "source": [
    "### MLP"
   ]
  },
  {
   "cell_type": "code",
   "execution_count": 196,
   "metadata": {},
   "outputs": [],
   "source": [
    "from sklearn.neural_network import MLPClassifier\n",
    "from sklearn.metrics import accuracy_score, classification_report\n",
    "\n",
    "# Tạo mô hình MLP\n",
    "mlp_classifier = MLPClassifier(\n",
    "    random_state=42,\n",
    ")\n"
   ]
  },
  {
   "cell_type": "code",
   "execution_count": 90,
   "metadata": {},
   "outputs": [
    {
     "name": "stdout",
     "output_type": "stream",
     "text": [
      "training accuracy: 0.8823428571428571 \n",
      "validation accuracy: 0.8486666666666667\n"
     ]
    }
   ],
   "source": [
    "train_and_valid(mlp_classifier, X_w2v_train ,y_train ,X_w2v_test, y_test)"
   ]
  },
  {
   "cell_type": "code",
   "execution_count": 92,
   "metadata": {},
   "outputs": [],
   "source": [
    "res = mlp_classifier.predict(X_w2v_train)"
   ]
  },
  {
   "cell_type": "code",
   "execution_count": 197,
   "metadata": {},
   "outputs": [
    {
     "name": "stderr",
     "output_type": "stream",
     "text": [
      "d:\\Anaconda3\\Lib\\site-packages\\sklearn\\neural_network\\_multilayer_perceptron.py:691: ConvergenceWarning: Stochastic Optimizer: Maximum iterations (200) reached and the optimization hasn't converged yet.\n",
      "  warnings.warn(\n"
     ]
    },
    {
     "name": "stdout",
     "output_type": "stream",
     "text": [
      "training accuracy: 0.9530857142857143 \n",
      "validation accuracy: 0.8211333333333334\n"
     ]
    }
   ],
   "source": [
    "# Huấn luyện mô hình\n",
    "train_and_valid(mlp_classifier, X_w2v_train_removed,y_train ,X_w2v_test_removed, y_test)"
   ]
  },
  {
   "cell_type": "markdown",
   "metadata": {},
   "source": [
    "### Ensemble model"
   ]
  },
  {
   "cell_type": "code",
   "execution_count": null,
   "metadata": {},
   "outputs": [],
   "source": [
    "### Ensemble models\n",
    "class EnsembleModel:\n",
    "    def __init__(self, models, weights):\n",
    "        self.models = models\n",
    "        self.weights = weights\n",
    "    def __print__(self):\n",
    "        for model in model: \n",
    "            print(model)\n",
    "    def fit(self, X_train, y_train):\n",
    "        # Huấn luyện mô hình\n",
    "        for model in self.models: \n",
    "            model.fit(X_train, y_train_new)\n",
    "    def predict(self, X_test):\n",
    "        # Khởi tạo ma trận kết quả với kích thước (số mô hình, số mẫu trong X_test)\n",
    "        res_models = np.zeros((len(self.models), len(X_test)))\n",
    "\n",
    "        # Dự đoán từ từng mô hình và nhân với trọng số tương ứng\n",
    "        for i in range(len(self.models)):\n",
    "            y_pred = self.models[i].predict(X_test); \n",
    "            y_pred_encoded = np.where(y_pred == 'negative', 0, 1)\n",
    "            res_models[i] = y_pred_encoded*self.weights[i]\n",
    "    \n",
    "        # Tính giá trị trung bình theo chiều dọc (theo từng mẫu)\n",
    "        res_vote = np.average(res_models, axis=0)  # axis=0 để tính trung bình cho từng mẫu\n",
    "        \n",
    "        # Nếu bạn muốn chuyển sang 'positive' / 'negative' (giả sử 1 là positive và 0 là negative)\n",
    "        res_vote = np.where(res_vote > 0.5, 'positive', 'negative')\n",
    "        \n",
    "        return res_vote  # Hoặc nếu bạn cần kết quả dạng nhãn, trả về res_vote đã được chuyển đổi\n"
   ]
  },
  {
   "cell_type": "code",
   "execution_count": 165,
   "metadata": {},
   "outputs": [
    {
     "data": {
      "text/plain": [
       "[0.8939580764488286,\n",
       " 1.0480887792848337,\n",
       " 1.0246609124537607,\n",
       " 1.0246609124537607,\n",
       " 1.0086313193588163]"
      ]
     },
     "execution_count": 165,
     "metadata": {},
     "output_type": "execute_result"
    }
   ],
   "source": [
    "test_accuracy_models = np.array([0.725, 0.850, 0.831, 0.831, 0.818])\n",
    "sum_accuracy = np.sum(test_accuracy_models)\n",
    "weights = [test_acc*5/sum_accuracy for test_acc in test_accuracy_models ]\n",
    "weights"
   ]
  },
  {
   "cell_type": "code",
   "execution_count": 166,
   "metadata": {},
   "outputs": [],
   "source": [
    "ensemble_model = EnsembleModel([clf, log_regr, rf_clf, xgb, mlp_classifier], weights)"
   ]
  },
  {
   "cell_type": "markdown",
   "metadata": {},
   "source": [
    "[0.5,1.5,0.75,0.75,1.5] --> 0.855 \\\n",
    "weights --> 0.8466"
   ]
  },
  {
   "cell_type": "code",
   "execution_count": 167,
   "metadata": {},
   "outputs": [
    {
     "name": "stderr",
     "output_type": "stream",
     "text": [
      "C:\\Users\\PAVT\\AppData\\Local\\Temp\\ipykernel_27748\\2884763099.py:20: FutureWarning: elementwise comparison failed; returning scalar instead, but in the future will perform elementwise comparison\n",
      "  y_pred_encoded = np.where(y_pred == 'negative', 0, 1)\n"
     ]
    },
    {
     "data": {
      "text/plain": [
       "(15000,)"
      ]
     },
     "execution_count": 167,
     "metadata": {},
     "output_type": "execute_result"
    }
   ],
   "source": [
    "ensemble_res = ensemble_model.predict(X_w2v_test)\n",
    "ensemble_res.shape"
   ]
  },
  {
   "cell_type": "code",
   "execution_count": 168,
   "metadata": {},
   "outputs": [
    {
     "data": {
      "text/plain": [
       "0.8466666666666667"
      ]
     },
     "execution_count": 168,
     "metadata": {},
     "output_type": "execute_result"
    }
   ],
   "source": [
    "accuracy_score(ensemble_res, y_test)"
   ]
  },
  {
   "cell_type": "markdown",
   "metadata": {},
   "source": [
    "## Tổng kết"
   ]
  },
  {
   "cell_type": "markdown",
   "metadata": {},
   "source": [
    "| Mô hình Word Embeddings| Dữ liệu |Mô hình ML| Tham số | training accuracy | testing accuracy | Đánh giá | \n",
    "|---------|------|----------|------|--------|----|---|\n",
    "|Word2Vec|Không loại stop words |Decision tree | default | 0.979 | 0.7249 | Overfitting |\n",
    "|Word2Vec|Không loại stop words |Logistic Regression | max_iter = 400 | 0.852 | 0.850 | -- |\n",
    "|Word2Vec|Không loại stop words |Random forest | default | 0.99997 | 0.818 | Ovefitting |\n",
    "|Word2Vec|Không loại stop words  |XGBoost | default | 0.961 | 0.833 | Ovefitting |\n",
    "|Word2Vec|Không loại stop words |MLP | max_iter = 250, learning_rate_init = 0.0005 | 0.868 | 0.850 | -- |\n",
    "|Word2Vec|Loại stop words |Decision tree | default | 0.976 | 0.751 | Overfitting |\n",
    "|Word2Vec|Loại stop words |Logistic Regression | default | 0.850 | 0.848 | -- |\n",
    "|Word2Vec|Loại stop words |Random forest | default | 0.999 | 0.830 | Overfitting |\n",
    "|Word2Vec|Loại stop words  |XGBoost | default | 0.964 | 0.834 | Ovefitting |\n",
    "|Word2Vec|Loại stop words |MLP | default | 0.938 | 0.816 | Overfitting |\n"
   ]
  },
  {
   "cell_type": "markdown",
   "metadata": {},
   "source": []
  }
 ],
 "metadata": {
  "kernelspec": {
   "display_name": "base",
   "language": "python",
   "name": "python3"
  },
  "language_info": {
   "codemirror_mode": {
    "name": "ipython",
    "version": 3
   },
   "file_extension": ".py",
   "mimetype": "text/x-python",
   "name": "python",
   "nbconvert_exporter": "python",
   "pygments_lexer": "ipython3",
   "version": "3.11.5"
  }
 },
 "nbformat": 4,
 "nbformat_minor": 2
}
